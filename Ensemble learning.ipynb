{
 "cells": [
  {
   "cell_type": "markdown",
   "metadata": {},
   "source": [
    "# Ensemble learning"
   ]
  },
  {
   "cell_type": "code",
   "execution_count": 1,
   "metadata": {},
   "outputs": [],
   "source": [
    "# conda install jupyter ipykernel nb_conda jupyterlab matplotlib seaborn pandas numpy scikit-learn scipy lightgbm xgboost catboost"
   ]
  },
  {
   "cell_type": "markdown",
   "metadata": {},
   "source": [
    "# Downloading data"
   ]
  },
  {
   "cell_type": "markdown",
   "metadata": {},
   "source": [
    "source = 'https://www.kaggle.com/antfarol/car-sale-advertisements/download'"
   ]
  },
  {
   "cell_type": "code",
   "execution_count": 2,
   "metadata": {},
   "outputs": [],
   "source": [
    "import matplotlib.pyplot as plt\n",
    "import seaborn as sns\n",
    "import pandas as pd\n",
    "import numpy as np\n",
    "import pylab as pl\n",
    "%matplotlib inline"
   ]
  },
  {
   "cell_type": "code",
   "execution_count": 3,
   "metadata": {},
   "outputs": [],
   "source": [
    "# # !wget -O car_ad.csv  'https://www.kaggle.com/antfarol/car-sale-advertisements/car_ad.csv'\n",
    "# wget -P https://www.kaggle.com/antfarol/car-sale-advertisements/download/car_ad.csv\n"
   ]
  },
  {
   "cell_type": "code",
   "execution_count": 4,
   "metadata": {},
   "outputs": [],
   "source": [
    "# df = pd.read_csv(\"car_ad.csv\")\n",
    "# df.head()"
   ]
  },
  {
   "cell_type": "code",
   "execution_count": 5,
   "metadata": {},
   "outputs": [
    {
     "name": "stdout",
     "output_type": "stream",
     "text": [
      "/Users/artyomkolas/Downloads/car_ad.csv\n"
     ]
    },
    {
     "data": {
      "text/html": [
       "<div>\n",
       "<style scoped>\n",
       "    .dataframe tbody tr th:only-of-type {\n",
       "        vertical-align: middle;\n",
       "    }\n",
       "\n",
       "    .dataframe tbody tr th {\n",
       "        vertical-align: top;\n",
       "    }\n",
       "\n",
       "    .dataframe thead th {\n",
       "        text-align: right;\n",
       "    }\n",
       "</style>\n",
       "<table border=\"1\" class=\"dataframe\">\n",
       "  <thead>\n",
       "    <tr style=\"text-align: right;\">\n",
       "      <th></th>\n",
       "      <th>car</th>\n",
       "      <th>price</th>\n",
       "      <th>body</th>\n",
       "      <th>mileage</th>\n",
       "      <th>engV</th>\n",
       "      <th>engType</th>\n",
       "      <th>registration</th>\n",
       "      <th>year</th>\n",
       "      <th>model</th>\n",
       "      <th>drive</th>\n",
       "    </tr>\n",
       "  </thead>\n",
       "  <tbody>\n",
       "    <tr>\n",
       "      <th>0</th>\n",
       "      <td>Ford</td>\n",
       "      <td>15500.0</td>\n",
       "      <td>crossover</td>\n",
       "      <td>68</td>\n",
       "      <td>2.5</td>\n",
       "      <td>Gas</td>\n",
       "      <td>yes</td>\n",
       "      <td>2010</td>\n",
       "      <td>Kuga</td>\n",
       "      <td>full</td>\n",
       "    </tr>\n",
       "    <tr>\n",
       "      <th>1</th>\n",
       "      <td>Mercedes-Benz</td>\n",
       "      <td>20500.0</td>\n",
       "      <td>sedan</td>\n",
       "      <td>173</td>\n",
       "      <td>1.8</td>\n",
       "      <td>Gas</td>\n",
       "      <td>yes</td>\n",
       "      <td>2011</td>\n",
       "      <td>E-Class</td>\n",
       "      <td>rear</td>\n",
       "    </tr>\n",
       "    <tr>\n",
       "      <th>2</th>\n",
       "      <td>Mercedes-Benz</td>\n",
       "      <td>35000.0</td>\n",
       "      <td>other</td>\n",
       "      <td>135</td>\n",
       "      <td>5.5</td>\n",
       "      <td>Petrol</td>\n",
       "      <td>yes</td>\n",
       "      <td>2008</td>\n",
       "      <td>CL 550</td>\n",
       "      <td>rear</td>\n",
       "    </tr>\n",
       "    <tr>\n",
       "      <th>3</th>\n",
       "      <td>Mercedes-Benz</td>\n",
       "      <td>17800.0</td>\n",
       "      <td>van</td>\n",
       "      <td>162</td>\n",
       "      <td>1.8</td>\n",
       "      <td>Diesel</td>\n",
       "      <td>yes</td>\n",
       "      <td>2012</td>\n",
       "      <td>B 180</td>\n",
       "      <td>front</td>\n",
       "    </tr>\n",
       "    <tr>\n",
       "      <th>4</th>\n",
       "      <td>Mercedes-Benz</td>\n",
       "      <td>33000.0</td>\n",
       "      <td>vagon</td>\n",
       "      <td>91</td>\n",
       "      <td>NaN</td>\n",
       "      <td>Other</td>\n",
       "      <td>yes</td>\n",
       "      <td>2013</td>\n",
       "      <td>E-Class</td>\n",
       "      <td>NaN</td>\n",
       "    </tr>\n",
       "  </tbody>\n",
       "</table>\n",
       "</div>"
      ],
      "text/plain": [
       "             car    price       body  mileage  engV engType registration  \\\n",
       "0           Ford  15500.0  crossover       68   2.5     Gas          yes   \n",
       "1  Mercedes-Benz  20500.0      sedan      173   1.8     Gas          yes   \n",
       "2  Mercedes-Benz  35000.0      other      135   5.5  Petrol          yes   \n",
       "3  Mercedes-Benz  17800.0        van      162   1.8  Diesel          yes   \n",
       "4  Mercedes-Benz  33000.0      vagon       91   NaN   Other          yes   \n",
       "\n",
       "   year    model  drive  \n",
       "0  2010     Kuga   full  \n",
       "1  2011  E-Class   rear  \n",
       "2  2008   CL 550   rear  \n",
       "3  2012    B 180  front  \n",
       "4  2013  E-Class    NaN  "
      ]
     },
     "execution_count": 5,
     "metadata": {},
     "output_type": "execute_result"
    }
   ],
   "source": [
    "import os\n",
    "\n",
    "link = os.path.expanduser(\"~/Downloads/car_ad.csv\")\n",
    "print(link)\n",
    "df = pd.read_csv(link, encoding=\"latin1\")\n",
    "df.head()"
   ]
  },
  {
   "cell_type": "code",
   "execution_count": 6,
   "metadata": {},
   "outputs": [
    {
     "data": {
      "text/html": [
       "<div>\n",
       "<style scoped>\n",
       "    .dataframe tbody tr th:only-of-type {\n",
       "        vertical-align: middle;\n",
       "    }\n",
       "\n",
       "    .dataframe tbody tr th {\n",
       "        vertical-align: top;\n",
       "    }\n",
       "\n",
       "    .dataframe thead th {\n",
       "        text-align: right;\n",
       "    }\n",
       "</style>\n",
       "<table border=\"1\" class=\"dataframe\">\n",
       "  <thead>\n",
       "    <tr style=\"text-align: right;\">\n",
       "      <th></th>\n",
       "      <th>price</th>\n",
       "      <th>body</th>\n",
       "      <th>mileage</th>\n",
       "      <th>engV</th>\n",
       "      <th>engType</th>\n",
       "      <th>year</th>\n",
       "      <th>drive</th>\n",
       "    </tr>\n",
       "  </thead>\n",
       "  <tbody>\n",
       "    <tr>\n",
       "      <th>0</th>\n",
       "      <td>15500.0</td>\n",
       "      <td>crossover</td>\n",
       "      <td>68</td>\n",
       "      <td>2.5</td>\n",
       "      <td>Gas</td>\n",
       "      <td>2010</td>\n",
       "      <td>full</td>\n",
       "    </tr>\n",
       "    <tr>\n",
       "      <th>1</th>\n",
       "      <td>20500.0</td>\n",
       "      <td>sedan</td>\n",
       "      <td>173</td>\n",
       "      <td>1.8</td>\n",
       "      <td>Gas</td>\n",
       "      <td>2011</td>\n",
       "      <td>rear</td>\n",
       "    </tr>\n",
       "  </tbody>\n",
       "</table>\n",
       "</div>"
      ],
      "text/plain": [
       "     price       body  mileage  engV engType  year drive\n",
       "0  15500.0  crossover       68   2.5     Gas  2010  full\n",
       "1  20500.0      sedan      173   1.8     Gas  2011  rear"
      ]
     },
     "execution_count": 6,
     "metadata": {},
     "output_type": "execute_result"
    }
   ],
   "source": [
    "df = df[['price', 'body', 'mileage', 'engV', 'engType', 'year', 'drive']]\n",
    "df.head(2)"
   ]
  },
  {
   "cell_type": "markdown",
   "metadata": {},
   "source": [
    "# Pre-Processing"
   ]
  },
  {
   "cell_type": "markdown",
   "metadata": {},
   "source": [
    "https://github.com/kolasdevpy/Regressions/blob/master/Multiple%20Linear%20Regression.ipynb"
   ]
  },
  {
   "cell_type": "code",
   "execution_count": 7,
   "metadata": {},
   "outputs": [
    {
     "data": {
      "text/html": [
       "<div>\n",
       "<style scoped>\n",
       "    .dataframe tbody tr th:only-of-type {\n",
       "        vertical-align: middle;\n",
       "    }\n",
       "\n",
       "    .dataframe tbody tr th {\n",
       "        vertical-align: top;\n",
       "    }\n",
       "\n",
       "    .dataframe thead th {\n",
       "        text-align: right;\n",
       "    }\n",
       "</style>\n",
       "<table border=\"1\" class=\"dataframe\">\n",
       "  <thead>\n",
       "    <tr style=\"text-align: right;\">\n",
       "      <th></th>\n",
       "      <th>price</th>\n",
       "      <th>body</th>\n",
       "      <th>mileage</th>\n",
       "      <th>engV</th>\n",
       "      <th>engType</th>\n",
       "      <th>year</th>\n",
       "      <th>drive</th>\n",
       "    </tr>\n",
       "  </thead>\n",
       "  <tbody>\n",
       "    <tr>\n",
       "      <th>0</th>\n",
       "      <td>15500.0</td>\n",
       "      <td>crossover</td>\n",
       "      <td>68</td>\n",
       "      <td>2.5</td>\n",
       "      <td>Gas</td>\n",
       "      <td>2010</td>\n",
       "      <td>full</td>\n",
       "    </tr>\n",
       "    <tr>\n",
       "      <th>1</th>\n",
       "      <td>20500.0</td>\n",
       "      <td>sedan</td>\n",
       "      <td>173</td>\n",
       "      <td>1.8</td>\n",
       "      <td>Gas</td>\n",
       "      <td>2011</td>\n",
       "      <td>rear</td>\n",
       "    </tr>\n",
       "  </tbody>\n",
       "</table>\n",
       "</div>"
      ],
      "text/plain": [
       "     price       body  mileage  engV engType  year drive\n",
       "0  15500.0  crossover       68   2.5     Gas  2010  full\n",
       "1  20500.0      sedan      173   1.8     Gas  2011  rear"
      ]
     },
     "execution_count": 7,
     "metadata": {},
     "output_type": "execute_result"
    }
   ],
   "source": [
    "df.replace(\"?\", np.nan, inplace = True)\n",
    "df.head(2)"
   ]
  },
  {
   "cell_type": "code",
   "execution_count": 8,
   "metadata": {},
   "outputs": [
    {
     "name": "stdout",
     "output_type": "stream",
     "text": [
      "=============================== price =============================\n",
      "0.00000        267\n",
      "8500.00000      92\n",
      "6500.00000      86\n",
      "7500.00000      85\n",
      "10500.00000     83\n",
      "              ... \n",
      "26220.28500      1\n",
      "67900.00000      1\n",
      "3333.00000       1\n",
      "460.00000        1\n",
      "11280.79875      1\n",
      "Name: price, Length: 1353, dtype: int64\n",
      "=============================== body =============================\n",
      "sedan        3646\n",
      "crossover    2069\n",
      "hatch        1252\n",
      "van          1049\n",
      "other         838\n",
      "vagon         722\n",
      "Name: body, dtype: int64\n",
      "=============================== mileage =============================\n",
      "0      348\n",
      "1      304\n",
      "200    171\n",
      "150    131\n",
      "250    128\n",
      "      ... \n",
      "427      1\n",
      "840      1\n",
      "920      1\n",
      "419      1\n",
      "435      1\n",
      "Name: mileage, Length: 442, dtype: int64\n",
      "=============================== engV =============================\n",
      "2.00    1539\n",
      "1.60    1229\n",
      "3.00     703\n",
      "1.50     692\n",
      "1.80     585\n",
      "        ... \n",
      "1.36       1\n",
      "4.25       1\n",
      "6.40       1\n",
      "1.35       1\n",
      "1.79       1\n",
      "Name: engV, Length: 118, dtype: int64\n",
      "=============================== engType =============================\n",
      "Petrol    4379\n",
      "Diesel    3013\n",
      "Gas       1722\n",
      "Other      462\n",
      "Name: engType, dtype: int64\n",
      "=============================== year =============================\n",
      "2008    1158\n",
      "2007     930\n",
      "2012     767\n",
      "2011     701\n",
      "2013     651\n",
      "2006     564\n",
      "2016     459\n",
      "2005     413\n",
      "2010     389\n",
      "2014     368\n",
      "2009     347\n",
      "2004     338\n",
      "2003     282\n",
      "2015     249\n",
      "2000     231\n",
      "2002     219\n",
      "2001     216\n",
      "1999     160\n",
      "1998     152\n",
      "1996     125\n",
      "1997     123\n",
      "1995      85\n",
      "1994      76\n",
      "1991      70\n",
      "1990      64\n",
      "1992      62\n",
      "1988      60\n",
      "1993      53\n",
      "1989      50\n",
      "1986      45\n",
      "1987      43\n",
      "1985      28\n",
      "1984      15\n",
      "1979      10\n",
      "1982      10\n",
      "1980       9\n",
      "1981       8\n",
      "1978       7\n",
      "1983       7\n",
      "1977       6\n",
      "1976       4\n",
      "1969       3\n",
      "1963       2\n",
      "1974       2\n",
      "1971       2\n",
      "1962       2\n",
      "1961       2\n",
      "1953       1\n",
      "1958       1\n",
      "1970       1\n",
      "1975       1\n",
      "1959       1\n",
      "1964       1\n",
      "1972       1\n",
      "1973       1\n",
      "1968       1\n",
      "Name: year, dtype: int64\n",
      "=============================== drive =============================\n",
      "front    5188\n",
      "full     2500\n",
      "rear     1377\n",
      "NaN       511\n",
      "Name: drive, dtype: int64\n"
     ]
    }
   ],
   "source": [
    "features = ['price', 'body', 'mileage', 'engV', 'engType', 'year', 'drive']\n",
    "for el in features:\n",
    "    print(f'=============================== {el} =============================')\n",
    "    print(df[el].value_counts(dropna=False))"
   ]
  },
  {
   "cell_type": "code",
   "execution_count": 9,
   "metadata": {},
   "outputs": [
    {
     "data": {
      "text/plain": [
       "price      float64\n",
       "body        object\n",
       "mileage      int64\n",
       "engV       float64\n",
       "engType     object\n",
       "year         int64\n",
       "drive       object\n",
       "dtype: object"
      ]
     },
     "execution_count": 9,
     "metadata": {},
     "output_type": "execute_result"
    }
   ],
   "source": [
    "df.dtypes"
   ]
  },
  {
   "cell_type": "code",
   "execution_count": 10,
   "metadata": {},
   "outputs": [
    {
     "data": {
      "text/plain": [
       "1    5188\n",
       "2    2500\n",
       "3    1377\n",
       "4     511\n",
       "Name: drive, dtype: int64"
      ]
     },
     "execution_count": 10,
     "metadata": {},
     "output_type": "execute_result"
    }
   ],
   "source": [
    "df['drive'].replace(to_replace=\"front\", value=1, inplace=True)\n",
    "df['drive'].replace(to_replace=\"rear\",  value=3, inplace=True)\n",
    "df['drive'].replace(to_replace=\"full\",  value=2, inplace=True)\n",
    "df['drive'].replace(np.nan,                   4, inplace=True)\n",
    "df['drive'] = df['drive'].astype(\"int\")\n",
    "df['drive'].value_counts(dropna=False)"
   ]
  },
  {
   "cell_type": "code",
   "execution_count": 11,
   "metadata": {},
   "outputs": [
    {
     "name": "stdout",
     "output_type": "stream",
     "text": [
      "0        267\n",
      "8500      92\n",
      "6500      86\n",
      "7500      85\n",
      "10500     83\n",
      "        ... \n",
      "6928       1\n",
      "6880       1\n",
      "10974      1\n",
      "2778       1\n",
      "13972      1\n",
      "Name: price, Length: 1348, dtype: int64\n"
     ]
    }
   ],
   "source": [
    "df[['price']] = df[['price']].astype(\"int\")\n",
    "print(df['price'].value_counts(dropna=False))"
   ]
  },
  {
   "cell_type": "code",
   "execution_count": 12,
   "metadata": {},
   "outputs": [
    {
     "name": "stdout",
     "output_type": "stream",
     "text": [
      "1    3646\n",
      "2    2069\n",
      "3    1252\n",
      "4    1049\n",
      "5     838\n",
      "6     722\n",
      "Name: body, dtype: int64\n"
     ]
    }
   ],
   "source": [
    "df['body'].replace(to_replace=\"sedan\",     value=1, inplace=True)\n",
    "df['body'].replace(to_replace=\"crossover\", value=2, inplace=True)\n",
    "df['body'].replace(to_replace=\"hatch\",     value=3, inplace=True)\n",
    "df['body'].replace(to_replace=\"van\",       value=4, inplace=True)\n",
    "df['body'].replace(to_replace=\"other\",     value=5, inplace=True)\n",
    "df['body'].replace(to_replace=\"vagon\",     value=6, inplace=True)\n",
    "\n",
    "df[['body']] = df[['body']].astype(\"int\")\n",
    "print(df['body'].value_counts(dropna=False))\n"
   ]
  },
  {
   "cell_type": "code",
   "execution_count": 13,
   "metadata": {},
   "outputs": [
    {
     "name": "stdout",
     "output_type": "stream",
     "text": [
      "1    4379\n",
      "2    3013\n",
      "3    1722\n",
      "4     462\n",
      "Name: engType, dtype: int64\n"
     ]
    }
   ],
   "source": [
    "df['engType'].replace(to_replace=\"Petrol\",     value=1, inplace=True)\n",
    "df['engType'].replace(to_replace=\"Diesel\",     value=2, inplace=True)\n",
    "df['engType'].replace(to_replace=\"Gas\",        value=3, inplace=True)\n",
    "df['engType'].replace(to_replace=\"Other\",      value=4, inplace=True)\n",
    "\n",
    "df[['engType']] = df[['engType']].astype(\"int\")\n",
    "print(df['engType'].value_counts(dropna=False))\n"
   ]
  },
  {
   "cell_type": "code",
   "execution_count": 14,
   "metadata": {},
   "outputs": [
    {
     "data": {
      "text/plain": [
       "price        int64\n",
       "body         int64\n",
       "mileage      int64\n",
       "engV       float64\n",
       "engType      int64\n",
       "year         int64\n",
       "drive        int64\n",
       "dtype: object"
      ]
     },
     "execution_count": 14,
     "metadata": {},
     "output_type": "execute_result"
    }
   ],
   "source": [
    "df.dtypes"
   ]
  },
  {
   "cell_type": "code",
   "execution_count": 15,
   "metadata": {},
   "outputs": [
    {
     "data": {
      "text/plain": [
       "(9576, 7)"
      ]
     },
     "execution_count": 15,
     "metadata": {},
     "output_type": "execute_result"
    }
   ],
   "source": [
    "df.shape"
   ]
  },
  {
   "cell_type": "code",
   "execution_count": 16,
   "metadata": {},
   "outputs": [
    {
     "data": {
      "text/plain": [
       "2.00     1539\n",
       "1.60     1229\n",
       "3.00      703\n",
       "1.50      692\n",
       "1.80      585\n",
       "         ... \n",
       "1.36        1\n",
       "22.00       1\n",
       "1.79        1\n",
       "1.35        1\n",
       "2.28        1\n",
       "Name: engV, Length: 117, dtype: int64"
      ]
     },
     "execution_count": 16,
     "metadata": {},
     "output_type": "execute_result"
    }
   ],
   "source": [
    "df.dropna(subset=['engV'], axis=0, inplace=True)\n",
    "df.reset_index(drop=True, inplace=True)\n",
    "\n",
    "df['engV'].value_counts(dropna=False)"
   ]
  },
  {
   "cell_type": "code",
   "execution_count": 17,
   "metadata": {},
   "outputs": [
    {
     "data": {
      "text/plain": [
       "(9142, 7)"
      ]
     },
     "execution_count": 17,
     "metadata": {},
     "output_type": "execute_result"
    }
   ],
   "source": [
    "df.shape"
   ]
  },
  {
   "cell_type": "code",
   "execution_count": 18,
   "metadata": {},
   "outputs": [
    {
     "data": {
      "text/plain": [
       "price        int64\n",
       "body         int64\n",
       "mileage      int64\n",
       "engV       float64\n",
       "engType      int64\n",
       "year         int64\n",
       "drive        int64\n",
       "dtype: object"
      ]
     },
     "execution_count": 18,
     "metadata": {},
     "output_type": "execute_result"
    }
   ],
   "source": [
    "df.dtypes"
   ]
  },
  {
   "cell_type": "markdown",
   "metadata": {},
   "source": [
    "# Data cleaning"
   ]
  },
  {
   "cell_type": "code",
   "execution_count": 19,
   "metadata": {},
   "outputs": [
    {
     "data": {
      "text/plain": [
       "8500     90\n",
       "7500     82\n",
       "6500     80\n",
       "10500    80\n",
       "3500     76\n",
       "         ..\n",
       "28777     1\n",
       "23880     1\n",
       "50499     1\n",
       "13621     1\n",
       "407       1\n",
       "Name: price, Length: 1301, dtype: int64"
      ]
     },
     "execution_count": 19,
     "metadata": {},
     "output_type": "execute_result"
    }
   ],
   "source": [
    "df = df.loc[df['price'] != 0] \n",
    "df.reset_index(drop=True, inplace=True)\n",
    "df['price'].value_counts(dropna=False)"
   ]
  },
  {
   "cell_type": "code",
   "execution_count": 20,
   "metadata": {},
   "outputs": [
    {
     "data": {
      "text/plain": [
       "8500      90\n",
       "7500      82\n",
       "10500     80\n",
       "6500      80\n",
       "3500      76\n",
       "          ..\n",
       "35162      1\n",
       "35138      1\n",
       "45600      1\n",
       "10550      1\n",
       "123000     1\n",
       "Name: price, Length: 1287, dtype: int64"
      ]
     },
     "execution_count": 20,
     "metadata": {},
     "output_type": "execute_result"
    }
   ],
   "source": [
    "df = df.loc[df['price'] < 200000] \n",
    "df.reset_index(drop=True, inplace=True)\n",
    "df['price'].value_counts(dropna=False)"
   ]
  },
  {
   "cell_type": "code",
   "execution_count": 21,
   "metadata": {},
   "outputs": [
    {
     "data": {
      "text/plain": [
       "2.00    1509\n",
       "1.60    1210\n",
       "1.50     681\n",
       "3.00     633\n",
       "1.80     581\n",
       "        ... \n",
       "1.36       1\n",
       "1.79       1\n",
       "6.40       1\n",
       "1.35       1\n",
       "2.28       1\n",
       "Name: engV, Length: 113, dtype: int64"
      ]
     },
     "execution_count": 21,
     "metadata": {},
     "output_type": "execute_result"
    }
   ],
   "source": [
    "df = df.loc[df['engV'] > 0.5] \n",
    "df.reset_index(drop=True, inplace=True)\n",
    "df['engV'].value_counts(dropna=False)"
   ]
  },
  {
   "cell_type": "code",
   "execution_count": 22,
   "metadata": {},
   "outputs": [
    {
     "data": {
      "text/plain": [
       "2.00    1509\n",
       "1.60    1210\n",
       "1.50     681\n",
       "3.00     633\n",
       "1.80     581\n",
       "        ... \n",
       "1.24       1\n",
       "1.79       1\n",
       "9.00       1\n",
       "1.35       1\n",
       "2.28       1\n",
       "Name: engV, Length: 93, dtype: int64"
      ]
     },
     "execution_count": 22,
     "metadata": {},
     "output_type": "execute_result"
    }
   ],
   "source": [
    "df = df.loc[df['engV'] < 10] \n",
    "df.reset_index(drop=True, inplace=True)\n",
    "df['engV'].value_counts(dropna=False)"
   ]
  },
  {
   "cell_type": "code",
   "execution_count": 23,
   "metadata": {},
   "outputs": [
    {
     "data": {
      "text/plain": [
       "2008    1096\n",
       "2007     869\n",
       "2012     714\n",
       "2011     666\n",
       "2013     574\n",
       "2006     536\n",
       "2005     380\n",
       "2010     372\n",
       "2016     368\n",
       "2009     326\n",
       "2004     323\n",
       "2014     310\n",
       "2003     264\n",
       "2000     213\n",
       "2002     210\n",
       "2001     197\n",
       "2015     197\n",
       "1999     149\n",
       "1998     140\n",
       "1997     113\n",
       "1996     111\n",
       "1995      84\n",
       "1994      73\n",
       "1991      64\n",
       "1992      60\n",
       "1990      58\n",
       "1988      56\n",
       "1993      50\n",
       "1989      46\n",
       "1986      41\n",
       "1987      39\n",
       "1985      21\n",
       "1984      15\n",
       "1982      10\n",
       "1983       7\n",
       "1981       5\n",
       "Name: year, dtype: int64"
      ]
     },
     "execution_count": 23,
     "metadata": {},
     "output_type": "execute_result"
    }
   ],
   "source": [
    "df = df.loc[df['year'] > 1980] \n",
    "df.reset_index(drop=True, inplace=True)\n",
    "df['year'].value_counts(dropna=False)"
   ]
  },
  {
   "cell_type": "code",
   "execution_count": 24,
   "metadata": {},
   "outputs": [
    {
     "data": {
      "text/plain": [
       "200    161\n",
       "250    122\n",
       "150    119\n",
       "180    114\n",
       "160    114\n",
       "      ... \n",
       "520      1\n",
       "600      1\n",
       "427      1\n",
       "840      1\n",
       "547      1\n",
       "Name: mileage, Length: 435, dtype: int64"
      ]
     },
     "execution_count": 24,
     "metadata": {},
     "output_type": "execute_result"
    }
   ],
   "source": [
    "df = df.loc[df['mileage'] > 1] \n",
    "df.reset_index(drop=True, inplace=True)\n",
    "df['mileage'].value_counts(dropna=False)"
   ]
  },
  {
   "cell_type": "code",
   "execution_count": 25,
   "metadata": {},
   "outputs": [
    {
     "data": {
      "text/plain": [
       "200    161\n",
       "250    122\n",
       "150    119\n",
       "160    114\n",
       "180    114\n",
       "      ... \n",
       "392      1\n",
       "384      1\n",
       "356      1\n",
       "336      1\n",
       "389      1\n",
       "Name: mileage, Length: 377, dtype: int64"
      ]
     },
     "execution_count": 25,
     "metadata": {},
     "output_type": "execute_result"
    }
   ],
   "source": [
    "df = df.loc[df['mileage'] < 400] \n",
    "df.reset_index(drop=True, inplace=True)\n",
    "df['mileage'].value_counts(dropna=False)"
   ]
  },
  {
   "cell_type": "code",
   "execution_count": 26,
   "metadata": {},
   "outputs": [
    {
     "data": {
      "text/plain": [
       "(8110, 7)"
      ]
     },
     "execution_count": 26,
     "metadata": {},
     "output_type": "execute_result"
    }
   ],
   "source": [
    "df.shape"
   ]
  },
  {
   "cell_type": "code",
   "execution_count": 27,
   "metadata": {},
   "outputs": [
    {
     "data": {
      "text/html": [
       "<div>\n",
       "<style scoped>\n",
       "    .dataframe tbody tr th:only-of-type {\n",
       "        vertical-align: middle;\n",
       "    }\n",
       "\n",
       "    .dataframe tbody tr th {\n",
       "        vertical-align: top;\n",
       "    }\n",
       "\n",
       "    .dataframe thead th {\n",
       "        text-align: right;\n",
       "    }\n",
       "</style>\n",
       "<table border=\"1\" class=\"dataframe\">\n",
       "  <thead>\n",
       "    <tr style=\"text-align: right;\">\n",
       "      <th></th>\n",
       "      <th>price</th>\n",
       "      <th>body</th>\n",
       "      <th>mileage</th>\n",
       "      <th>engV</th>\n",
       "      <th>engType</th>\n",
       "      <th>year</th>\n",
       "      <th>drive</th>\n",
       "    </tr>\n",
       "  </thead>\n",
       "  <tbody>\n",
       "    <tr>\n",
       "      <th>count</th>\n",
       "      <td>8110.000000</td>\n",
       "      <td>8110.000000</td>\n",
       "      <td>8110.000000</td>\n",
       "      <td>8110.000000</td>\n",
       "      <td>8110.000000</td>\n",
       "      <td>8110.000000</td>\n",
       "      <td>8110.000000</td>\n",
       "    </tr>\n",
       "    <tr>\n",
       "      <th>mean</th>\n",
       "      <td>13943.037608</td>\n",
       "      <td>0.422503</td>\n",
       "      <td>0.364972</td>\n",
       "      <td>0.247409</td>\n",
       "      <td>0.445684</td>\n",
       "      <td>0.995275</td>\n",
       "      <td>0.416523</td>\n",
       "    </tr>\n",
       "    <tr>\n",
       "      <th>std</th>\n",
       "      <td>15881.944895</td>\n",
       "      <td>0.274419</td>\n",
       "      <td>0.205442</td>\n",
       "      <td>0.107218</td>\n",
       "      <td>0.214278</td>\n",
       "      <td>0.003035</td>\n",
       "      <td>0.219231</td>\n",
       "    </tr>\n",
       "    <tr>\n",
       "      <th>min</th>\n",
       "      <td>370.000000</td>\n",
       "      <td>0.166667</td>\n",
       "      <td>0.005025</td>\n",
       "      <td>0.066667</td>\n",
       "      <td>0.250000</td>\n",
       "      <td>0.982639</td>\n",
       "      <td>0.250000</td>\n",
       "    </tr>\n",
       "    <tr>\n",
       "      <th>25%</th>\n",
       "      <td>5500.000000</td>\n",
       "      <td>0.166667</td>\n",
       "      <td>0.211055</td>\n",
       "      <td>0.177778</td>\n",
       "      <td>0.250000</td>\n",
       "      <td>0.994048</td>\n",
       "      <td>0.250000</td>\n",
       "    </tr>\n",
       "    <tr>\n",
       "      <th>50%</th>\n",
       "      <td>9300.000000</td>\n",
       "      <td>0.333333</td>\n",
       "      <td>0.339196</td>\n",
       "      <td>0.222222</td>\n",
       "      <td>0.500000</td>\n",
       "      <td>0.996032</td>\n",
       "      <td>0.250000</td>\n",
       "    </tr>\n",
       "    <tr>\n",
       "      <th>75%</th>\n",
       "      <td>15900.000000</td>\n",
       "      <td>0.666667</td>\n",
       "      <td>0.497487</td>\n",
       "      <td>0.277778</td>\n",
       "      <td>0.500000</td>\n",
       "      <td>0.997520</td>\n",
       "      <td>0.500000</td>\n",
       "    </tr>\n",
       "    <tr>\n",
       "      <th>max</th>\n",
       "      <td>195000.000000</td>\n",
       "      <td>1.000000</td>\n",
       "      <td>1.000000</td>\n",
       "      <td>1.000000</td>\n",
       "      <td>1.000000</td>\n",
       "      <td>1.000000</td>\n",
       "      <td>1.000000</td>\n",
       "    </tr>\n",
       "  </tbody>\n",
       "</table>\n",
       "</div>"
      ],
      "text/plain": [
       "               price         body      mileage         engV      engType  \\\n",
       "count    8110.000000  8110.000000  8110.000000  8110.000000  8110.000000   \n",
       "mean    13943.037608     0.422503     0.364972     0.247409     0.445684   \n",
       "std     15881.944895     0.274419     0.205442     0.107218     0.214278   \n",
       "min       370.000000     0.166667     0.005025     0.066667     0.250000   \n",
       "25%      5500.000000     0.166667     0.211055     0.177778     0.250000   \n",
       "50%      9300.000000     0.333333     0.339196     0.222222     0.500000   \n",
       "75%     15900.000000     0.666667     0.497487     0.277778     0.500000   \n",
       "max    195000.000000     1.000000     1.000000     1.000000     1.000000   \n",
       "\n",
       "              year        drive  \n",
       "count  8110.000000  8110.000000  \n",
       "mean      0.995275     0.416523  \n",
       "std       0.003035     0.219231  \n",
       "min       0.982639     0.250000  \n",
       "25%       0.994048     0.250000  \n",
       "50%       0.996032     0.250000  \n",
       "75%       0.997520     0.500000  \n",
       "max       1.000000     1.000000  "
      ]
     },
     "execution_count": 27,
     "metadata": {},
     "output_type": "execute_result"
    }
   ],
   "source": [
    "target_column = ['price'] \n",
    "predictors = list(set(list(df.columns))-set(target_column))\n",
    "\n",
    "# normalization\n",
    "df[predictors] = df[predictors]/df[predictors].max()\n",
    "\n",
    "df.describe()"
   ]
  },
  {
   "cell_type": "code",
   "execution_count": 28,
   "metadata": {},
   "outputs": [
    {
     "data": {
      "text/plain": [
       "['body', 'engV', 'drive', 'year', 'engType', 'mileage']"
      ]
     },
     "execution_count": 28,
     "metadata": {},
     "output_type": "execute_result"
    }
   ],
   "source": [
    "predictors"
   ]
  },
  {
   "cell_type": "code",
   "execution_count": 29,
   "metadata": {},
   "outputs": [
    {
     "name": "stdout",
     "output_type": "stream",
     "text": [
      "\n"
     ]
    },
    {
     "data": {
      "image/png": "[encoded data removed]",
      "text/plain": [
       "<Figure size 1440x720 with 1 Axes>"
      ]
     },
     "metadata": {
      "needs_background": "light"
     },
     "output_type": "display_data"
    },
    {
     "name": "stdout",
     "output_type": "stream",
     "text": [
      "\n",
      "\n"
     ]
    },
    {
     "data": {
      "image/png": "[encoded data removed]",
      "text/plain": [
       "<Figure size 1440x720 with 1 Axes>"
      ]
     },
     "metadata": {
      "needs_background": "light"
     },
     "output_type": "display_data"
    },
    {
     "name": "stdout",
     "output_type": "stream",
     "text": [
      "\n",
      "\n"
     ]
    },
    {
     "data": {
      "image/png": "[encoded data removed]",
      "text/plain": [
       "<Figure size 1440x720 with 1 Axes>"
      ]
     },
     "metadata": {
      "needs_background": "light"
     },
     "output_type": "display_data"
    },
    {
     "name": "stdout",
     "output_type": "stream",
     "text": [
      "\n",
      "\n"
     ]
    },
    {
     "data": {
      "image/png": "[encoded data removed]",
      "text/plain": [
       "<Figure size 1440x720 with 1 Axes>"
      ]
     },
     "metadata": {
      "needs_background": "light"
     },
     "output_type": "display_data"
    },
    {
     "name": "stdout",
     "output_type": "stream",
     "text": [
      "\n",
      "\n"
     ]
    },
    {
     "data": {
      "image/png": "[encoded data removed]",
      "text/plain": [
       "<Figure size 1440x720 with 1 Axes>"
      ]
     },
     "metadata": {
      "needs_background": "light"
     },
     "output_type": "display_data"
    },
    {
     "name": "stdout",
     "output_type": "stream",
     "text": [
      "\n",
      "\n"
     ]
    },
    {
     "data": {
      "image/png": "[encoded data removed]",
      "text/plain": [
       "<Figure size 1440x720 with 1 Axes>"
      ]
     },
     "metadata": {
      "needs_background": "light"
     },
     "output_type": "display_data"
    },
    {
     "name": "stdout",
     "output_type": "stream",
     "text": [
      "\n"
     ]
    }
   ],
   "source": [
    "for el in predictors:\n",
    "    print('')\n",
    "    label = el\n",
    "    el = df[el]\n",
    "    plt.figure(figsize=(20,10))\n",
    "    try:\n",
    "        plt.scatter(el, df.price)\n",
    "    except:\n",
    "        print(Error)\n",
    "    plt.xlabel(label.upper())\n",
    "    plt.ylabel(\"PRICE\")\n",
    "    plt.show()\n",
    "    print('')"
   ]
  },
  {
   "cell_type": "markdown",
   "metadata": {},
   "source": [
    "# Ensemble learning with feature selection (including train_test_split)"
   ]
  },
  {
   "cell_type": "code",
   "execution_count": 30,
   "metadata": {},
   "outputs": [
    {
     "name": "stdin",
     "output_type": "stream",
     "text": [
      "You have 63 combinations of X features. Input y/n for continuous (+ press enter/return) y\n"
     ]
    },
    {
     "name": "stderr",
     "output_type": "stream",
     "text": [
      "/Users/artyomkolas/opt/anaconda3/envs/regr/lib/python3.7/site-packages/lightgbm/__init__.py:48: UserWarning: Starting from version 2.2.1, the library file in distribution wheels for macOS is built by the Apple Clang (Xcode_8.3.3) compiler.\n",
      "This means that in case of installing LightGBM from PyPI via the ``pip install lightgbm`` command, you don't need to install the gcc compiler anymore.\n",
      "Instead of that, you need to install the OpenMP library, which is required for running LightGBM on the system with the Apple Clang compiler.\n",
      "You can install the OpenMP library by the following command: ``brew install libomp``.\n",
      "  \"You can install the OpenMP library by the following command: ``brew install libomp``.\", UserWarning)\n"
     ]
    },
    {
     "name": "stdout",
     "output_type": "stream",
     "text": [
      "Inprogress 1/63\n",
      "Inprogress 2/63\n",
      "Inprogress 3/63\n",
      "Inprogress 4/63\n",
      "Inprogress 5/63\n",
      "Inprogress 6/63\n",
      "Inprogress 7/63\n",
      "Inprogress 8/63\n",
      "Inprogress 9/63\n",
      "Inprogress 10/63\n",
      "Inprogress 11/63\n",
      "Inprogress 12/63\n",
      "Inprogress 13/63\n",
      "Inprogress 14/63\n",
      "Inprogress 15/63\n",
      "Inprogress 16/63\n",
      "Inprogress 17/63\n",
      "Inprogress 18/63\n",
      "Inprogress 19/63\n",
      "Inprogress 20/63\n",
      "Inprogress 21/63\n",
      "Inprogress 22/63\n",
      "Inprogress 23/63\n",
      "Inprogress 24/63\n",
      "Inprogress 25/63\n",
      "Inprogress 26/63\n",
      "Inprogress 27/63\n",
      "Inprogress 28/63\n",
      "Inprogress 29/63\n",
      "Inprogress 30/63\n",
      "Inprogress 31/63\n",
      "Inprogress 32/63\n",
      "Inprogress 33/63\n",
      "Inprogress 34/63\n",
      "Inprogress 35/63\n",
      "Inprogress 36/63\n",
      "Inprogress 37/63\n",
      "Inprogress 38/63\n",
      "Inprogress 39/63\n",
      "Inprogress 40/63\n",
      "Inprogress 41/63\n",
      "Inprogress 42/63\n",
      "Inprogress 43/63\n",
      "Inprogress 44/63\n",
      "Inprogress 45/63\n",
      "Inprogress 46/63\n",
      "Inprogress 47/63\n",
      "Inprogress 48/63\n",
      "Inprogress 49/63\n",
      "Inprogress 50/63\n",
      "Inprogress 51/63\n",
      "Inprogress 52/63\n",
      "Inprogress 53/63\n",
      "Inprogress 54/63\n",
      "Inprogress 55/63\n",
      "Inprogress 56/63\n",
      "Inprogress 57/63\n",
      "Inprogress 58/63\n",
      "Inprogress 59/63\n",
      "Inprogress 60/63\n",
      "Inprogress 61/63\n",
      "Inprogress 62/63\n",
      "Inprogress 63/63\n",
      "\n",
      "___SORTED  EVALUATIONS  for   REGRESSOR:___\n",
      "\n",
      "R2_score         MSE         REGRESSOR       FEATURES\n",
      "\n",
      "0.529708        9627.29    DecisionTree:   ['drive', 'year', 'mileage']\n",
      "\n",
      "0.529708        9627.29    DecisionTree:   ['drive', 'year', 'engType', 'mileage']\n",
      "\n",
      "0.529708        9627.29    DecisionTree:   ['drive', 'year', 'engType']\n",
      "\n",
      "0.529708        9627.29    DecisionTree:   ['drive', 'year']\n",
      "\n",
      "0.529708        9627.29    DecisionTree:   ['body', 'drive', 'year', 'mileage']\n",
      "\n",
      "0.529708        9627.29    DecisionTree:   ['body', 'drive', 'year', 'engType', 'mileage']\n",
      "\n",
      "0.529708        9627.29    DecisionTree:   ['body', 'drive', 'year', 'engType']\n",
      "\n",
      "0.529708        9627.29    DecisionTree:   ['body', 'drive', 'year']\n",
      "\n",
      "0.426635       10630.06    DecisionTree:   ['engV', 'year', 'mileage']\n",
      "\n",
      "0.426635       10630.06    DecisionTree:   ['engV', 'year', 'engType', 'mileage']\n",
      "\n",
      "10 best evaluations\n",
      "\n",
      "\n",
      "\n",
      "___SORTED  EVALUATIONS  for   REGRESSOR:___\n",
      "\n",
      "R2_score         MSE         REGRESSOR       FEATURES\n",
      "\n",
      "0.798169        6306.87    RandomForest:   ['body', 'engV', 'drive', 'year', 'engType', 'mileage']\n",
      "\n",
      "0.794750        6360.08    RandomForest:   ['body', 'engV', 'drive', 'year', 'mileage']\n",
      "\n",
      "0.785899        6495.75    RandomForest:   ['body', 'engV', 'year', 'engType', 'mileage']\n",
      "\n",
      "0.783582        6530.81    RandomForest:   ['body', 'engV', 'year', 'mileage']\n",
      "\n",
      "0.782425        6548.25    RandomForest:   ['engV', 'drive', 'year', 'engType']\n",
      "\n",
      "0.779651        6589.86    RandomForest:   ['body', 'engV', 'drive', 'year', 'engType']\n",
      "\n",
      "0.777257        6625.55    RandomForest:   ['engV', 'drive', 'year']\n",
      "\n",
      "0.772129        6701.39    RandomForest:   ['body', 'engV', 'drive', 'year']\n",
      "\n",
      "0.769377        6741.74    RandomForest:   ['engV', 'year']\n",
      "\n",
      "0.769291        6742.99    RandomForest:   ['engV', 'year', 'engType']\n",
      "\n",
      "10 best evaluations\n",
      "\n",
      "\n",
      "\n",
      "___SORTED  EVALUATIONS  for   REGRESSOR:___\n",
      "\n",
      "R2_score         MSE         REGRESSOR       FEATURES\n",
      "\n",
      "0.806371        6177.39    LGBMRegressor:  ['body', 'engV', 'drive', 'year', 'mileage']\n",
      "\n",
      "0.804461        6207.78    LGBMRegressor:  ['body', 'engV', 'drive', 'year', 'engType', 'mileage']\n",
      "\n",
      "0.790268        6429.14    LGBMRegressor:  ['body', 'engV', 'year', 'mileage']\n",
      "\n",
      "0.787846        6466.15    LGBMRegressor:  ['engV', 'drive', 'year', 'mileage']\n",
      "\n",
      "0.787202        6475.96    LGBMRegressor:  ['engV', 'drive', 'year', 'engType', 'mileage']\n",
      "\n",
      "0.786191        6491.32    LGBMRegressor:  ['body', 'engV', 'year', 'engType', 'mileage']\n",
      "\n",
      "0.781075        6568.53    LGBMRegressor:  ['body', 'engV', 'drive', 'year', 'engType']\n",
      "\n",
      "0.779923        6585.78    LGBMRegressor:  ['body', 'engV', 'drive', 'year']\n",
      "\n",
      "0.779742        6588.49    LGBMRegressor:  ['engV', 'year', 'mileage']\n",
      "\n",
      "0.773196        6685.68    LGBMRegressor:  ['engV', 'drive', 'year']\n",
      "\n",
      "10 best evaluations\n",
      "\n",
      "\n",
      "\n",
      "___SORTED  EVALUATIONS  for   REGRESSOR:___\n",
      "\n",
      "R2_score         MSE         REGRESSOR       FEATURES\n",
      "\n",
      "0.811250        6099.08    XGBRegressor:   ['body', 'engV', 'drive', 'year', 'mileage']\n",
      "\n",
      "0.804281        6210.64    XGBRegressor:   ['body', 'engV', 'drive', 'year', 'engType', 'mileage']\n",
      "\n",
      "0.802819        6233.80    XGBRegressor:   ['engV', 'drive', 'year', 'engType']\n",
      "\n",
      "0.800462        6270.94    XGBRegressor:   ['body', 'engV', 'year', 'mileage']\n",
      "\n",
      "0.797176        6322.37    XGBRegressor:   ['body', 'engV', 'year', 'engType', 'mileage']\n",
      "\n",
      "0.791625        6408.31    XGBRegressor:   ['engV', 'year']\n",
      "\n",
      "0.785164        6506.90    XGBRegressor:   ['body', 'engV', 'year', 'engType']\n",
      "\n",
      "0.784704        6513.86    XGBRegressor:   ['engV', 'drive', 'year', 'engType', 'mileage']\n",
      "\n",
      "0.784546        6516.25    XGBRegressor:   ['engV', 'year', 'engType']\n",
      "\n",
      "0.783792        6527.64    XGBRegressor:   ['engV', 'drive', 'year']\n",
      "\n",
      "10 best evaluations\n",
      "\n",
      "\n",
      "\n",
      "___SORTED  EVALUATIONS  for   REGRESSOR:___\n",
      "\n",
      "R2_score         MSE         REGRESSOR       FEATURES\n",
      "\n",
      "0.837693        5655.73    CatBoostRegr:   ['body', 'engV', 'drive', 'year', 'mileage']\n",
      "\n",
      "0.830709        5776.13    CatBoostRegr:   ['body', 'engV', 'drive', 'year', 'engType', 'mileage']\n",
      "\n",
      "0.825964        5856.52    CatBoostRegr:   ['body', 'engV', 'year', 'mileage']\n",
      "\n",
      "0.824325        5884.03    CatBoostRegr:   ['body', 'engV', 'year', 'engType', 'mileage']\n",
      "\n",
      "0.803741        6219.21    CatBoostRegr:   ['engV', 'drive', 'year']\n",
      "\n",
      "0.798095        6308.04    CatBoostRegr:   ['engV', 'drive', 'year', 'engType', 'mileage']\n",
      "\n",
      "0.794888        6357.94    CatBoostRegr:   ['body', 'engV', 'drive', 'year']\n",
      "\n",
      "0.793116        6385.34    CatBoostRegr:   ['engV', 'drive', 'year', 'mileage']\n",
      "\n",
      "0.788469        6456.65    CatBoostRegr:   ['body', 'engV', 'year']\n",
      "\n",
      "0.788419        6457.41    CatBoostRegr:   ['engV', 'drive', 'year', 'engType']\n",
      "\n",
      "10 best evaluations\n",
      "\n",
      "\n",
      "___ THE  BEST  SORTED  EVALUATIONS for ALL ___ first 20 best evaluations\n",
      "\n",
      "R2_score         MSE         REGRESSOR       FEATURES\n",
      "\n",
      "0.837693        5655.73     CatBoostRegr:   ['body', 'engV', 'drive', 'year', 'mileage']\n",
      "\n",
      "0.830709        5776.13     CatBoostRegr:   ['body', 'engV', 'drive', 'year', 'engType', 'mileage']\n",
      "\n",
      "0.825964        5856.52     CatBoostRegr:   ['body', 'engV', 'year', 'mileage']\n",
      "\n",
      "0.824325        5884.03     CatBoostRegr:   ['body', 'engV', 'year', 'engType', 'mileage']\n",
      "\n",
      "0.811250        6099.08     XGBRegressor:   ['body', 'engV', 'drive', 'year', 'mileage']\n",
      "\n",
      "0.806371        6177.39     LGBMRegressor:  ['body', 'engV', 'drive', 'year', 'mileage']\n",
      "\n",
      "0.804461        6207.78     LGBMRegressor:  ['body', 'engV', 'drive', 'year', 'engType', 'mileage']\n",
      "\n",
      "0.804281        6210.64     XGBRegressor:   ['body', 'engV', 'drive', 'year', 'engType', 'mileage']\n",
      "\n",
      "0.803741        6219.21     CatBoostRegr:   ['engV', 'drive', 'year']\n",
      "\n",
      "0.802819        6233.80     XGBRegressor:   ['engV', 'drive', 'year', 'engType']\n",
      "\n",
      "0.800462        6270.94     XGBRegressor:   ['body', 'engV', 'year', 'mileage']\n",
      "\n",
      "0.798169        6306.87     RandomForest:   ['body', 'engV', 'drive', 'year', 'engType', 'mileage']\n",
      "\n",
      "0.798095        6308.04     CatBoostRegr:   ['engV', 'drive', 'year', 'engType', 'mileage']\n",
      "\n",
      "0.797176        6322.37     XGBRegressor:   ['body', 'engV', 'year', 'engType', 'mileage']\n",
      "\n",
      "0.794888        6357.94     CatBoostRegr:   ['body', 'engV', 'drive', 'year']\n",
      "\n",
      "0.794750        6360.08     RandomForest:   ['body', 'engV', 'drive', 'year', 'mileage']\n",
      "\n",
      "0.793116        6385.34     CatBoostRegr:   ['engV', 'drive', 'year', 'mileage']\n",
      "\n",
      "0.791625        6408.31     XGBRegressor:   ['engV', 'year']\n",
      "\n",
      "0.790268        6429.14     LGBMRegressor:  ['body', 'engV', 'year', 'mileage']\n",
      "\n",
      "0.788469        6456.65     CatBoostRegr:   ['body', 'engV', 'year']\n",
      "\n",
      "20 best evaluations\n"
     ]
    }
   ],
   "source": [
    "X = predictors    # type list !!!\n",
    "\n",
    "y = df[target_column]    # df\n",
    "y = np.ravel(y)\n",
    "\n",
    "\n",
    "def get_combinations(X):\n",
    "    '''get all combinations of X features'''\n",
    "    import itertools\n",
    "    global combinations\n",
    "    combinations = []\n",
    "    for L in range(0, len(X)+1):\n",
    "         for subset in itertools.combinations(X, L):\n",
    "            subset = list(subset)\n",
    "            combinations.append(subset)\n",
    "    return combinations\n",
    "\n",
    "\n",
    "def iterative_evaluation(df, y, combinations):\n",
    "    '''iterative evaluation of all features'''\n",
    "    comand = input(f'You have {len(combinations) - 1} combinations of X features.'\n",
    "                   f' Input y/n for continuous (+ press enter/return)')\n",
    "    if comand == 'n':\n",
    "        return 'OK'\n",
    "    elif comand == 'y':\n",
    "        \n",
    "# Imports _________________________________________________________\n",
    "        from sklearn.model_selection import train_test_split\n",
    "\n",
    "        from sklearn.tree import DecisionTreeRegressor\n",
    "        from sklearn.ensemble import RandomForestRegressor\n",
    "        import lightgbm as lgb\n",
    "        import xgboost as xgb\n",
    "        import catboost as ctb\n",
    "    \n",
    "\n",
    "# Imports of metrics ______________________________________________\n",
    "        from sklearn.metrics import mean_squared_error\n",
    "        from math import sqrt\n",
    "        from sklearn.metrics import r2_score\n",
    "        \n",
    "        \n",
    "# Creare evaluations lists ________________________________________\n",
    "        global DecisionTree_evaluations\n",
    "        DecisionTree_evaluations = []\n",
    "        \n",
    "        global RandomForest_evaluations\n",
    "        RandomForest_evaluations = []\n",
    "        \n",
    "        global LGBM_evaluations\n",
    "        LGBM_evaluations = []\n",
    "        \n",
    "        global XGB_evaluations\n",
    "        XGB_evaluations = []\n",
    "        \n",
    "        global CatBoost_evaluations\n",
    "        CatBoost_evaluations = []\n",
    "        \n",
    "        global all_evaluations\n",
    "        all_evaluations = []\n",
    "        \n",
    "        \n",
    "# Classifier Entity _______________________________________________\n",
    "        dtree = DecisionTreeRegressor(max_depth=5, min_samples_leaf=0.13, random_state=3)\n",
    "        model_rf = RandomForestRegressor(n_estimators=500, oob_score=True, random_state=100)\n",
    "        lgbm = lgb.LGBMRegressor()\n",
    "        xgbm = xgb.XGBRegressor()\n",
    "        ctbm = ctb.CatBoostRegressor(verbose=False)\n",
    "        \n",
    "\n",
    "        i=1    \n",
    "        for el in combinations[1:]:                       \n",
    "            print(f'Inprogress {i}/{len(combinations) - 1}')\n",
    "            el = list(el)\n",
    "            \n",
    "            X = df[el]\n",
    "            \n",
    "# Model train and evaluation ______________________________________\n",
    "            X_train, X_test, y_train, y_test = train_test_split(X, y, test_size=0.1, random_state=3)\n",
    "            \n",
    "# Model train and evaluation ______________________________________\n",
    "            # DecisionTreeRegressor\n",
    "            dtree.fit(X_train, y_train)\n",
    "            pred_test_tree= dtree.predict(X_test)\n",
    "            MSE = np.sqrt(mean_squared_error(y_test,pred_test_tree)) \n",
    "            R2 = r2_score(y_test, pred_test_tree)\n",
    "            DecisionTree_evaluations.append([float('{:.6f}'.format(R2)), float('{:.6f}'.format(MSE)), 'DecisionTree:', el])\n",
    "            \n",
    "\n",
    "            # RandomForestRegressor\n",
    "            model_rf.fit(X_train, y_train) \n",
    "            pred_test_rf = model_rf.predict(X_test)\n",
    "            MSE = np.sqrt(mean_squared_error(y_test,pred_test_rf)) \n",
    "            R2 = r2_score(y_test, pred_test_rf)\n",
    "            RandomForest_evaluations.append([float('{:.6f}'.format(R2)), float('{:.6f}'.format(MSE)), 'RandomForest:', el])\n",
    "\n",
    "            \n",
    "            # LGBMRegressor\n",
    "            lgbm.fit(X_train,y_train)\n",
    "            pred_test_lgb = lgbm.predict(X_test)\n",
    "            MSE = np.sqrt(mean_squared_error(y_test,pred_test_lgb)) \n",
    "            R2 = r2_score(y_test, pred_test_lgb)\n",
    "            LGBM_evaluations.append([float('{:.6f}'.format(R2)), float('{:.6f}'.format(MSE)), 'LGBMRegressor:', el])\n",
    "            \n",
    "            \n",
    "            # XGBRegressor\n",
    "            xgbm.fit(X_train, y_train)\n",
    "            pred_test_xgb = xgbm.predict(X_test)\n",
    "            MSE = np.sqrt(mean_squared_error(y_test,pred_test_xgb)) \n",
    "            R2 = r2_score(y_test, pred_test_xgb)\n",
    "            XGB_evaluations.append([float('{:.6f}'.format(R2)), float('{:.6f}'.format(MSE)), 'XGBRegressor:', el])\n",
    "            \n",
    "            \n",
    "            # CatBoostRegressor\n",
    "            ctbm.fit(X_train, y_train)\n",
    "            pred_test_ctb = ctbm.predict(X_test)\n",
    "            MSE = np.sqrt(mean_squared_error(y_test,pred_test_ctb)) \n",
    "            R2 = r2_score(y_test, pred_test_ctb)\n",
    "            CatBoost_evaluations.append([float('{:.6f}'.format(R2)), float('{:.6f}'.format(MSE)), 'CatBoostRegr:', el])\n",
    "            \n",
    "            i+=1\n",
    "\n",
    "# GLOBAL TOTAL LIST OF ALL EVALUATIONS ___________________________________________________________________________        \n",
    "        all_evaluations = [DecisionTree_evaluations, RandomForest_evaluations, LGBM_evaluations,\n",
    "                            XGB_evaluations, CatBoost_evaluations]\n",
    "        \n",
    "        return all_evaluations\n",
    "    \n",
    "    else:\n",
    "        return 'invalid command'\n",
    "\n",
    "    \n",
    "def get_sorted_evaluations(all_evaluations):\n",
    "    '''sort and show list of evaluations'''\n",
    "    \n",
    "    global TOTAL_evaluations\n",
    "    TOTAL_evaluations = []\n",
    "    \n",
    "    quantity_of_best_evaluations_for_Regressor = 10\n",
    "    quantity_of_best_evaluations_TOTAL = 20\n",
    "    \n",
    "    for list_evaluations in all_evaluations:\n",
    "        list_evaluations.sort(reverse=True)\n",
    "        \n",
    "# OUTPUT_quantity_of_results______________________________________________________\n",
    "        show = list_evaluations[:quantity_of_best_evaluations_for_Regressor]\n",
    "        print(\"\")\n",
    "        print(\"___SORTED  EVALUATIONS  for   REGRESSOR:___\")\n",
    "        print(\"\")\n",
    "        print(\"R2_score         MSE         REGRESSOR       FEATURES\")\n",
    "        print(\"\")\n",
    "\n",
    "        for for_regressor in show:\n",
    "            print(\"{:1.6f}   {:12.2f}    {:15}\".format(for_regressor[0], for_regressor[1], for_regressor[2]), for_regressor[3])\n",
    "            print(\"\")\n",
    "            TOTAL_evaluations.append(for_regressor)\n",
    "        \n",
    "        print(f\"{len(show)} best evaluations\")\n",
    "        print(\"\")\n",
    "        print(\"\")\n",
    "        \n",
    "    TOTAL_evaluations.sort(reverse=True)\n",
    "        \n",
    "        \n",
    "    print(f\"___ THE  BEST  SORTED  EVALUATIONS for ALL ___ first {quantity_of_best_evaluations_TOTAL} best evaluations\")\n",
    "    print(\"\")\n",
    "    print(\"R2_score         MSE         REGRESSOR       FEATURES\")\n",
    "    print(\"\")\n",
    "    \n",
    "    for evaluations in TOTAL_evaluations[:quantity_of_best_evaluations_TOTAL]:\n",
    "        print(\"{:1.6f}   {:12.2f}     {:15}\".format(evaluations[0], evaluations[1], evaluations[2]), evaluations[3])\n",
    "        print(\"\")\n",
    "    print(f\"{quantity_of_best_evaluations_TOTAL} best evaluations\")\n",
    "\n",
    "\n",
    "        \n",
    "get_combinations(X)\n",
    "iterative_evaluation(df, y, combinations)\n",
    "get_sorted_evaluations(all_evaluations)"
   ]
  },
  {
   "cell_type": "code",
   "execution_count": null,
   "metadata": {},
   "outputs": [],
   "source": []
  }
 ],
 "metadata": {
  "kernelspec": {
   "display_name": "Python [conda env:regr] *",
   "language": "python",
   "name": "conda-env-regr-py"
  },
  "language_info": {
   "codemirror_mode": {
    "name": "ipython",
    "version": 3
   },
   "file_extension": ".py",
   "mimetype": "text/x-python",
   "name": "python",
   "nbconvert_exporter": "python",
   "pygments_lexer": "ipython3",
   "version": "3.7.9"
  }
 },
 "nbformat": 4,
 "nbformat_minor": 4
}
