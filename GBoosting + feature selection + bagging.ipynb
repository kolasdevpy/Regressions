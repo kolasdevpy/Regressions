{
 "cells": [
  {
   "cell_type": "markdown",
   "metadata": {},
   "source": [
    "# Ensemble learning"
   ]
  },
  {
   "cell_type": "code",
   "execution_count": 1,
   "metadata": {},
   "outputs": [],
   "source": [
    "# conda install jupyter ipykernel nb_conda jupyterlab matplotlib seaborn pandas numpy scikit-learn scipy lightgbm xgboost catboost"
   ]
  },
  {
   "cell_type": "markdown",
   "metadata": {},
   "source": [
    "# Downloading data"
   ]
  },
  {
   "cell_type": "markdown",
   "metadata": {},
   "source": [
    "source = 'https://www.kaggle.com/antfarol/car-sale-advertisements/download'"
   ]
  },
  {
   "cell_type": "code",
   "execution_count": 2,
   "metadata": {},
   "outputs": [],
   "source": [
    "import matplotlib.pyplot as plt\n",
    "import seaborn as sns\n",
    "import pandas as pd\n",
    "import numpy as np\n",
    "import pylab as pl\n",
    "%matplotlib inline"
   ]
  },
  {
   "cell_type": "code",
   "execution_count": 3,
   "metadata": {},
   "outputs": [],
   "source": [
    "# !wget -O car_ad.csv https://www.kaggle.com/antfarol/car-sale-advertisements/download/car_ad.csv"
   ]
  },
  {
   "cell_type": "code",
   "execution_count": 4,
   "metadata": {},
   "outputs": [],
   "source": [
    "# df = pd.read_csv(\"car_ad.csv\", sep='delimiter', header=None)\n",
    "# df.head(1000)"
   ]
  },
  {
   "cell_type": "code",
   "execution_count": 5,
   "metadata": {},
   "outputs": [
    {
     "name": "stdout",
     "output_type": "stream",
     "text": [
      "/Users/artyomkolas/Downloads/car_ad.csv\n"
     ]
    },
    {
     "data": {
      "text/html": [
       "<div>\n",
       "<style scoped>\n",
       "    .dataframe tbody tr th:only-of-type {\n",
       "        vertical-align: middle;\n",
       "    }\n",
       "\n",
       "    .dataframe tbody tr th {\n",
       "        vertical-align: top;\n",
       "    }\n",
       "\n",
       "    .dataframe thead th {\n",
       "        text-align: right;\n",
       "    }\n",
       "</style>\n",
       "<table border=\"1\" class=\"dataframe\">\n",
       "  <thead>\n",
       "    <tr style=\"text-align: right;\">\n",
       "      <th></th>\n",
       "      <th>car</th>\n",
       "      <th>price</th>\n",
       "      <th>body</th>\n",
       "      <th>mileage</th>\n",
       "      <th>engV</th>\n",
       "      <th>engType</th>\n",
       "      <th>registration</th>\n",
       "      <th>year</th>\n",
       "      <th>model</th>\n",
       "      <th>drive</th>\n",
       "    </tr>\n",
       "  </thead>\n",
       "  <tbody>\n",
       "    <tr>\n",
       "      <th>0</th>\n",
       "      <td>Ford</td>\n",
       "      <td>15500.0</td>\n",
       "      <td>crossover</td>\n",
       "      <td>68</td>\n",
       "      <td>2.5</td>\n",
       "      <td>Gas</td>\n",
       "      <td>yes</td>\n",
       "      <td>2010</td>\n",
       "      <td>Kuga</td>\n",
       "      <td>full</td>\n",
       "    </tr>\n",
       "    <tr>\n",
       "      <th>1</th>\n",
       "      <td>Mercedes-Benz</td>\n",
       "      <td>20500.0</td>\n",
       "      <td>sedan</td>\n",
       "      <td>173</td>\n",
       "      <td>1.8</td>\n",
       "      <td>Gas</td>\n",
       "      <td>yes</td>\n",
       "      <td>2011</td>\n",
       "      <td>E-Class</td>\n",
       "      <td>rear</td>\n",
       "    </tr>\n",
       "    <tr>\n",
       "      <th>2</th>\n",
       "      <td>Mercedes-Benz</td>\n",
       "      <td>35000.0</td>\n",
       "      <td>other</td>\n",
       "      <td>135</td>\n",
       "      <td>5.5</td>\n",
       "      <td>Petrol</td>\n",
       "      <td>yes</td>\n",
       "      <td>2008</td>\n",
       "      <td>CL 550</td>\n",
       "      <td>rear</td>\n",
       "    </tr>\n",
       "    <tr>\n",
       "      <th>3</th>\n",
       "      <td>Mercedes-Benz</td>\n",
       "      <td>17800.0</td>\n",
       "      <td>van</td>\n",
       "      <td>162</td>\n",
       "      <td>1.8</td>\n",
       "      <td>Diesel</td>\n",
       "      <td>yes</td>\n",
       "      <td>2012</td>\n",
       "      <td>B 180</td>\n",
       "      <td>front</td>\n",
       "    </tr>\n",
       "    <tr>\n",
       "      <th>4</th>\n",
       "      <td>Mercedes-Benz</td>\n",
       "      <td>33000.0</td>\n",
       "      <td>vagon</td>\n",
       "      <td>91</td>\n",
       "      <td>NaN</td>\n",
       "      <td>Other</td>\n",
       "      <td>yes</td>\n",
       "      <td>2013</td>\n",
       "      <td>E-Class</td>\n",
       "      <td>NaN</td>\n",
       "    </tr>\n",
       "  </tbody>\n",
       "</table>\n",
       "</div>"
      ],
      "text/plain": [
       "             car    price       body  mileage  engV engType registration  \\\n",
       "0           Ford  15500.0  crossover       68   2.5     Gas          yes   \n",
       "1  Mercedes-Benz  20500.0      sedan      173   1.8     Gas          yes   \n",
       "2  Mercedes-Benz  35000.0      other      135   5.5  Petrol          yes   \n",
       "3  Mercedes-Benz  17800.0        van      162   1.8  Diesel          yes   \n",
       "4  Mercedes-Benz  33000.0      vagon       91   NaN   Other          yes   \n",
       "\n",
       "   year    model  drive  \n",
       "0  2010     Kuga   full  \n",
       "1  2011  E-Class   rear  \n",
       "2  2008   CL 550   rear  \n",
       "3  2012    B 180  front  \n",
       "4  2013  E-Class    NaN  "
      ]
     },
     "execution_count": 5,
     "metadata": {},
     "output_type": "execute_result"
    }
   ],
   "source": [
    "import os\n",
    "\n",
    "link = os.path.expanduser(\"~/Downloads/car_ad.csv\")\n",
    "print(link)\n",
    "df = pd.read_csv(link, encoding=\"latin1\")\n",
    "df.head()"
   ]
  },
  {
   "cell_type": "markdown",
   "metadata": {},
   "source": [
    "# Pre-Processing"
   ]
  },
  {
   "cell_type": "markdown",
   "metadata": {},
   "source": [
    "https://github.com/kolasdevpy/Regressions/blob/master/Multiple%20Linear%20Regression.ipynb"
   ]
  },
  {
   "cell_type": "code",
   "execution_count": 6,
   "metadata": {},
   "outputs": [
    {
     "data": {
      "text/html": [
       "<div>\n",
       "<style scoped>\n",
       "    .dataframe tbody tr th:only-of-type {\n",
       "        vertical-align: middle;\n",
       "    }\n",
       "\n",
       "    .dataframe tbody tr th {\n",
       "        vertical-align: top;\n",
       "    }\n",
       "\n",
       "    .dataframe thead th {\n",
       "        text-align: right;\n",
       "    }\n",
       "</style>\n",
       "<table border=\"1\" class=\"dataframe\">\n",
       "  <thead>\n",
       "    <tr style=\"text-align: right;\">\n",
       "      <th></th>\n",
       "      <th>car</th>\n",
       "      <th>price</th>\n",
       "      <th>body</th>\n",
       "      <th>mileage</th>\n",
       "      <th>engV</th>\n",
       "      <th>engType</th>\n",
       "      <th>registration</th>\n",
       "      <th>year</th>\n",
       "      <th>model</th>\n",
       "      <th>drive</th>\n",
       "    </tr>\n",
       "  </thead>\n",
       "  <tbody>\n",
       "    <tr>\n",
       "      <th>0</th>\n",
       "      <td>Ford</td>\n",
       "      <td>15500.0</td>\n",
       "      <td>crossover</td>\n",
       "      <td>68</td>\n",
       "      <td>2.5</td>\n",
       "      <td>Gas</td>\n",
       "      <td>yes</td>\n",
       "      <td>2010</td>\n",
       "      <td>Kuga</td>\n",
       "      <td>full</td>\n",
       "    </tr>\n",
       "    <tr>\n",
       "      <th>1</th>\n",
       "      <td>Mercedes-Benz</td>\n",
       "      <td>20500.0</td>\n",
       "      <td>sedan</td>\n",
       "      <td>173</td>\n",
       "      <td>1.8</td>\n",
       "      <td>Gas</td>\n",
       "      <td>yes</td>\n",
       "      <td>2011</td>\n",
       "      <td>E-Class</td>\n",
       "      <td>rear</td>\n",
       "    </tr>\n",
       "  </tbody>\n",
       "</table>\n",
       "</div>"
      ],
      "text/plain": [
       "             car    price       body  mileage  engV engType registration  \\\n",
       "0           Ford  15500.0  crossover       68   2.5     Gas          yes   \n",
       "1  Mercedes-Benz  20500.0      sedan      173   1.8     Gas          yes   \n",
       "\n",
       "   year    model drive  \n",
       "0  2010     Kuga  full  \n",
       "1  2011  E-Class  rear  "
      ]
     },
     "execution_count": 6,
     "metadata": {},
     "output_type": "execute_result"
    }
   ],
   "source": [
    "df.replace(\"?\", np.nan, inplace = True)\n",
    "df.head(2)"
   ]
  },
  {
   "cell_type": "code",
   "execution_count": 7,
   "metadata": {},
   "outputs": [
    {
     "name": "stdout",
     "output_type": "stream",
     "text": [
      "=============================== car =============================\n",
      "Volkswagen       936\n",
      "Mercedes-Benz    921\n",
      "BMW              694\n",
      "Toyota           541\n",
      "VAZ              489\n",
      "                ... \n",
      "Changan            1\n",
      "Maserati           1\n",
      "Barkas             1\n",
      "Mercury            1\n",
      "Aro                1\n",
      "Name: car, Length: 87, dtype: int64\n",
      "=============================== price =============================\n",
      "0.00000        267\n",
      "8500.00000      92\n",
      "6500.00000      86\n",
      "7500.00000      85\n",
      "10500.00000     83\n",
      "              ... \n",
      "26220.28500      1\n",
      "67900.00000      1\n",
      "3333.00000       1\n",
      "460.00000        1\n",
      "11280.79875      1\n",
      "Name: price, Length: 1353, dtype: int64\n",
      "=============================== body =============================\n",
      "sedan        3646\n",
      "crossover    2069\n",
      "hatch        1252\n",
      "van          1049\n",
      "other         838\n",
      "vagon         722\n",
      "Name: body, dtype: int64\n",
      "=============================== mileage =============================\n",
      "0      348\n",
      "1      304\n",
      "200    171\n",
      "150    131\n",
      "250    128\n",
      "      ... \n",
      "427      1\n",
      "840      1\n",
      "920      1\n",
      "419      1\n",
      "435      1\n",
      "Name: mileage, Length: 442, dtype: int64\n",
      "=============================== engV =============================\n",
      "2.00    1539\n",
      "1.60    1229\n",
      "3.00     703\n",
      "1.50     692\n",
      "1.80     585\n",
      "        ... \n",
      "1.36       1\n",
      "4.25       1\n",
      "6.40       1\n",
      "1.35       1\n",
      "1.79       1\n",
      "Name: engV, Length: 118, dtype: int64\n",
      "=============================== engType =============================\n",
      "Petrol    4379\n",
      "Diesel    3013\n",
      "Gas       1722\n",
      "Other      462\n",
      "Name: engType, dtype: int64\n",
      "=============================== registration =============================\n",
      "yes    9015\n",
      "no      561\n",
      "Name: registration, dtype: int64\n",
      "=============================== year =============================\n",
      "2008    1158\n",
      "2007     930\n",
      "2012     767\n",
      "2011     701\n",
      "2013     651\n",
      "2006     564\n",
      "2016     459\n",
      "2005     413\n",
      "2010     389\n",
      "2014     368\n",
      "2009     347\n",
      "2004     338\n",
      "2003     282\n",
      "2015     249\n",
      "2000     231\n",
      "2002     219\n",
      "2001     216\n",
      "1999     160\n",
      "1998     152\n",
      "1996     125\n",
      "1997     123\n",
      "1995      85\n",
      "1994      76\n",
      "1991      70\n",
      "1990      64\n",
      "1992      62\n",
      "1988      60\n",
      "1993      53\n",
      "1989      50\n",
      "1986      45\n",
      "1987      43\n",
      "1985      28\n",
      "1984      15\n",
      "1979      10\n",
      "1982      10\n",
      "1980       9\n",
      "1981       8\n",
      "1978       7\n",
      "1983       7\n",
      "1977       6\n",
      "1976       4\n",
      "1969       3\n",
      "1963       2\n",
      "1974       2\n",
      "1971       2\n",
      "1962       2\n",
      "1961       2\n",
      "1953       1\n",
      "1958       1\n",
      "1970       1\n",
      "1975       1\n",
      "1959       1\n",
      "1964       1\n",
      "1972       1\n",
      "1973       1\n",
      "1968       1\n",
      "Name: year, dtype: int64\n",
      "=============================== model =============================\n",
      "E-Class        199\n",
      "A6             172\n",
      "Camry          134\n",
      "Vito ïàññ.     131\n",
      "Lanos          127\n",
      "              ... \n",
      "Prisma           1\n",
      "Thunderbird      1\n",
      "Samurai          1\n",
      "Safe             1\n",
      "Xenon            1\n",
      "Name: model, Length: 888, dtype: int64\n",
      "=============================== drive =============================\n",
      "front    5188\n",
      "full     2500\n",
      "rear     1377\n",
      "NaN       511\n",
      "Name: drive, dtype: int64\n"
     ]
    }
   ],
   "source": [
    "features = ['car', 'price', 'body', 'mileage', 'engV', 'engType', 'registration', 'year', 'model', 'drive']\n",
    "for el in features:\n",
    "    print(f'=============================== {el} =============================')\n",
    "    print(df[el].value_counts(dropna=False))"
   ]
  },
  {
   "cell_type": "code",
   "execution_count": 8,
   "metadata": {},
   "outputs": [
    {
     "data": {
      "text/plain": [
       "car              object\n",
       "price           float64\n",
       "body             object\n",
       "mileage           int64\n",
       "engV            float64\n",
       "engType          object\n",
       "registration     object\n",
       "year              int64\n",
       "model            object\n",
       "drive            object\n",
       "dtype: object"
      ]
     },
     "execution_count": 8,
     "metadata": {},
     "output_type": "execute_result"
    }
   ],
   "source": [
    "df.dtypes"
   ]
  },
  {
   "cell_type": "code",
   "execution_count": 9,
   "metadata": {},
   "outputs": [
    {
     "data": {
      "text/plain": [
       "1    5188\n",
       "2    2500\n",
       "3    1377\n",
       "4     511\n",
       "Name: drive, dtype: int64"
      ]
     },
     "execution_count": 9,
     "metadata": {},
     "output_type": "execute_result"
    }
   ],
   "source": [
    "df['drive'].replace(to_replace=\"front\", value=1, inplace=True)\n",
    "df['drive'].replace(to_replace=\"rear\",  value=3, inplace=True)\n",
    "df['drive'].replace(to_replace=\"full\",  value=2, inplace=True)\n",
    "df['drive'].replace(np.nan,                   4, inplace=True)\n",
    "df['drive'] = df['drive'].astype(\"int\")\n",
    "df['drive'].value_counts(dropna=False)"
   ]
  },
  {
   "cell_type": "code",
   "execution_count": 10,
   "metadata": {},
   "outputs": [
    {
     "name": "stdout",
     "output_type": "stream",
     "text": [
      "0        267\n",
      "8500      92\n",
      "6500      86\n",
      "7500      85\n",
      "10500     83\n",
      "        ... \n",
      "6928       1\n",
      "6880       1\n",
      "10974      1\n",
      "2778       1\n",
      "13972      1\n",
      "Name: price, Length: 1348, dtype: int64\n"
     ]
    }
   ],
   "source": [
    "df[['price']] = df[['price']].astype(\"int\")\n",
    "print(df['price'].value_counts(dropna=False))"
   ]
  },
  {
   "cell_type": "code",
   "execution_count": 11,
   "metadata": {},
   "outputs": [
    {
     "name": "stdout",
     "output_type": "stream",
     "text": [
      "1    3646\n",
      "2    2069\n",
      "3    1252\n",
      "4    1049\n",
      "5     838\n",
      "6     722\n",
      "Name: body, dtype: int64\n"
     ]
    }
   ],
   "source": [
    "df['body'].replace(to_replace=\"sedan\",     value=1, inplace=True)\n",
    "df['body'].replace(to_replace=\"crossover\", value=2, inplace=True)\n",
    "df['body'].replace(to_replace=\"hatch\",     value=3, inplace=True)\n",
    "df['body'].replace(to_replace=\"van\",       value=4, inplace=True)\n",
    "df['body'].replace(to_replace=\"other\",     value=5, inplace=True)\n",
    "df['body'].replace(to_replace=\"vagon\",     value=6, inplace=True)\n",
    "\n",
    "df[['body']] = df[['body']].astype(\"int\")\n",
    "print(df['body'].value_counts(dropna=False))\n"
   ]
  },
  {
   "cell_type": "code",
   "execution_count": 12,
   "metadata": {},
   "outputs": [
    {
     "name": "stdout",
     "output_type": "stream",
     "text": [
      "1    4379\n",
      "2    3013\n",
      "3    1722\n",
      "4     462\n",
      "Name: engType, dtype: int64\n"
     ]
    }
   ],
   "source": [
    "df['engType'].replace(to_replace=\"Petrol\",     value=1, inplace=True)\n",
    "df['engType'].replace(to_replace=\"Diesel\",     value=2, inplace=True)\n",
    "df['engType'].replace(to_replace=\"Gas\",        value=3, inplace=True)\n",
    "df['engType'].replace(to_replace=\"Other\",      value=4, inplace=True)\n",
    "\n",
    "df[['engType']] = df[['engType']].astype(\"int\")\n",
    "print(df['engType'].value_counts(dropna=False))\n"
   ]
  },
  {
   "cell_type": "code",
   "execution_count": 13,
   "metadata": {},
   "outputs": [
    {
     "data": {
      "text/plain": [
       "car              object\n",
       "price             int64\n",
       "body              int64\n",
       "mileage           int64\n",
       "engV            float64\n",
       "engType           int64\n",
       "registration     object\n",
       "year              int64\n",
       "model            object\n",
       "drive             int64\n",
       "dtype: object"
      ]
     },
     "execution_count": 13,
     "metadata": {},
     "output_type": "execute_result"
    }
   ],
   "source": [
    "df.dtypes"
   ]
  },
  {
   "cell_type": "code",
   "execution_count": 14,
   "metadata": {},
   "outputs": [
    {
     "data": {
      "text/plain": [
       "(9576, 10)"
      ]
     },
     "execution_count": 14,
     "metadata": {},
     "output_type": "execute_result"
    }
   ],
   "source": [
    "df.shape"
   ]
  },
  {
   "cell_type": "code",
   "execution_count": 15,
   "metadata": {},
   "outputs": [
    {
     "data": {
      "text/plain": [
       "2.00     1539\n",
       "1.60     1229\n",
       "3.00      703\n",
       "1.50      692\n",
       "1.80      585\n",
       "         ... \n",
       "1.36        1\n",
       "22.00       1\n",
       "1.79        1\n",
       "1.35        1\n",
       "2.28        1\n",
       "Name: engV, Length: 117, dtype: int64"
      ]
     },
     "execution_count": 15,
     "metadata": {},
     "output_type": "execute_result"
    }
   ],
   "source": [
    "df.dropna(subset=['engV'], axis=0, inplace=True)\n",
    "df.reset_index(drop=True, inplace=True)\n",
    "\n",
    "df['engV'].value_counts(dropna=False)"
   ]
  },
  {
   "cell_type": "code",
   "execution_count": 16,
   "metadata": {},
   "outputs": [
    {
     "data": {
      "text/plain": [
       "(9142, 10)"
      ]
     },
     "execution_count": 16,
     "metadata": {},
     "output_type": "execute_result"
    }
   ],
   "source": [
    "df.shape"
   ]
  },
  {
   "cell_type": "code",
   "execution_count": 17,
   "metadata": {},
   "outputs": [
    {
     "name": "stdout",
     "output_type": "stream",
     "text": [
      "yes    8613\n",
      "no      529\n",
      "Name: registration, dtype: int64\n"
     ]
    }
   ],
   "source": [
    "print(df['registration'].value_counts(dropna=False))"
   ]
  },
  {
   "cell_type": "code",
   "execution_count": 18,
   "metadata": {},
   "outputs": [
    {
     "name": "stdout",
     "output_type": "stream",
     "text": [
      "1    8613\n",
      "2     529\n",
      "Name: registration, dtype: int64\n"
     ]
    }
   ],
   "source": [
    "df['registration'].replace(to_replace=\"yes\",  value=1, inplace=True)\n",
    "df['registration'].replace(to_replace=\"no\",   value=2, inplace=True)\n",
    "df[['registration']] = df[['registration']].astype(\"int\")\n",
    "print(df['registration'].value_counts(dropna=False))"
   ]
  },
  {
   "cell_type": "code",
   "execution_count": 19,
   "metadata": {},
   "outputs": [],
   "source": [
    "from sklearn.preprocessing import LabelEncoder\n",
    "le = LabelEncoder()\n",
    "df['car'] = le.fit_transform(df['car'])\n",
    "df['model'] = le.fit_transform(df['model'])"
   ]
  },
  {
   "cell_type": "code",
   "execution_count": 20,
   "metadata": {},
   "outputs": [
    {
     "data": {
      "text/html": [
       "<div>\n",
       "<style scoped>\n",
       "    .dataframe tbody tr th:only-of-type {\n",
       "        vertical-align: middle;\n",
       "    }\n",
       "\n",
       "    .dataframe tbody tr th {\n",
       "        vertical-align: top;\n",
       "    }\n",
       "\n",
       "    .dataframe thead th {\n",
       "        text-align: right;\n",
       "    }\n",
       "</style>\n",
       "<table border=\"1\" class=\"dataframe\">\n",
       "  <thead>\n",
       "    <tr style=\"text-align: right;\">\n",
       "      <th></th>\n",
       "      <th>car</th>\n",
       "      <th>price</th>\n",
       "      <th>body</th>\n",
       "      <th>mileage</th>\n",
       "      <th>engV</th>\n",
       "      <th>engType</th>\n",
       "      <th>registration</th>\n",
       "      <th>year</th>\n",
       "      <th>model</th>\n",
       "      <th>drive</th>\n",
       "    </tr>\n",
       "  </thead>\n",
       "  <tbody>\n",
       "    <tr>\n",
       "      <th>0</th>\n",
       "      <td>23</td>\n",
       "      <td>15500</td>\n",
       "      <td>2</td>\n",
       "      <td>68</td>\n",
       "      <td>2.5</td>\n",
       "      <td>3</td>\n",
       "      <td>1</td>\n",
       "      <td>2010</td>\n",
       "      <td>482</td>\n",
       "      <td>2</td>\n",
       "    </tr>\n",
       "    <tr>\n",
       "      <th>1</th>\n",
       "      <td>50</td>\n",
       "      <td>20500</td>\n",
       "      <td>1</td>\n",
       "      <td>173</td>\n",
       "      <td>1.8</td>\n",
       "      <td>3</td>\n",
       "      <td>1</td>\n",
       "      <td>2011</td>\n",
       "      <td>327</td>\n",
       "      <td>3</td>\n",
       "    </tr>\n",
       "    <tr>\n",
       "      <th>2</th>\n",
       "      <td>50</td>\n",
       "      <td>35000</td>\n",
       "      <td>5</td>\n",
       "      <td>135</td>\n",
       "      <td>5.5</td>\n",
       "      <td>1</td>\n",
       "      <td>1</td>\n",
       "      <td>2008</td>\n",
       "      <td>235</td>\n",
       "      <td>3</td>\n",
       "    </tr>\n",
       "    <tr>\n",
       "      <th>3</th>\n",
       "      <td>50</td>\n",
       "      <td>17800</td>\n",
       "      <td>4</td>\n",
       "      <td>162</td>\n",
       "      <td>1.8</td>\n",
       "      <td>2</td>\n",
       "      <td>1</td>\n",
       "      <td>2012</td>\n",
       "      <td>203</td>\n",
       "      <td>1</td>\n",
       "    </tr>\n",
       "    <tr>\n",
       "      <th>4</th>\n",
       "      <td>55</td>\n",
       "      <td>16600</td>\n",
       "      <td>2</td>\n",
       "      <td>83</td>\n",
       "      <td>2.0</td>\n",
       "      <td>1</td>\n",
       "      <td>1</td>\n",
       "      <td>2013</td>\n",
       "      <td>833</td>\n",
       "      <td>2</td>\n",
       "    </tr>\n",
       "    <tr>\n",
       "      <th>5</th>\n",
       "      <td>30</td>\n",
       "      <td>6500</td>\n",
       "      <td>1</td>\n",
       "      <td>199</td>\n",
       "      <td>2.0</td>\n",
       "      <td>1</td>\n",
       "      <td>1</td>\n",
       "      <td>2003</td>\n",
       "      <td>175</td>\n",
       "      <td>1</td>\n",
       "    </tr>\n",
       "    <tr>\n",
       "      <th>6</th>\n",
       "      <td>60</td>\n",
       "      <td>10500</td>\n",
       "      <td>6</td>\n",
       "      <td>185</td>\n",
       "      <td>1.5</td>\n",
       "      <td>2</td>\n",
       "      <td>1</td>\n",
       "      <td>2011</td>\n",
       "      <td>551</td>\n",
       "      <td>1</td>\n",
       "    </tr>\n",
       "    <tr>\n",
       "      <th>7</th>\n",
       "      <td>50</td>\n",
       "      <td>21500</td>\n",
       "      <td>1</td>\n",
       "      <td>146</td>\n",
       "      <td>1.8</td>\n",
       "      <td>3</td>\n",
       "      <td>1</td>\n",
       "      <td>2012</td>\n",
       "      <td>327</td>\n",
       "      <td>3</td>\n",
       "    </tr>\n",
       "    <tr>\n",
       "      <th>8</th>\n",
       "      <td>50</td>\n",
       "      <td>22700</td>\n",
       "      <td>1</td>\n",
       "      <td>125</td>\n",
       "      <td>2.2</td>\n",
       "      <td>2</td>\n",
       "      <td>1</td>\n",
       "      <td>2010</td>\n",
       "      <td>327</td>\n",
       "      <td>3</td>\n",
       "    </tr>\n",
       "    <tr>\n",
       "      <th>9</th>\n",
       "      <td>55</td>\n",
       "      <td>20447</td>\n",
       "      <td>2</td>\n",
       "      <td>0</td>\n",
       "      <td>1.2</td>\n",
       "      <td>1</td>\n",
       "      <td>1</td>\n",
       "      <td>2016</td>\n",
       "      <td>639</td>\n",
       "      <td>1</td>\n",
       "    </tr>\n",
       "  </tbody>\n",
       "</table>\n",
       "</div>"
      ],
      "text/plain": [
       "   car  price  body  mileage  engV  engType  registration  year  model  drive\n",
       "0   23  15500     2       68   2.5        3             1  2010    482      2\n",
       "1   50  20500     1      173   1.8        3             1  2011    327      3\n",
       "2   50  35000     5      135   5.5        1             1  2008    235      3\n",
       "3   50  17800     4      162   1.8        2             1  2012    203      1\n",
       "4   55  16600     2       83   2.0        1             1  2013    833      2\n",
       "5   30   6500     1      199   2.0        1             1  2003    175      1\n",
       "6   60  10500     6      185   1.5        2             1  2011    551      1\n",
       "7   50  21500     1      146   1.8        3             1  2012    327      3\n",
       "8   50  22700     1      125   2.2        2             1  2010    327      3\n",
       "9   55  20447     2        0   1.2        1             1  2016    639      1"
      ]
     },
     "execution_count": 20,
     "metadata": {},
     "output_type": "execute_result"
    }
   ],
   "source": [
    "df.head(10)"
   ]
  },
  {
   "cell_type": "code",
   "execution_count": null,
   "metadata": {},
   "outputs": [],
   "source": []
  },
  {
   "cell_type": "markdown",
   "metadata": {},
   "source": [
    "# Data cleaning"
   ]
  },
  {
   "cell_type": "code",
   "execution_count": 21,
   "metadata": {},
   "outputs": [
    {
     "data": {
      "text/plain": [
       "8500     90\n",
       "7500     82\n",
       "6500     80\n",
       "10500    80\n",
       "3500     76\n",
       "         ..\n",
       "28777     1\n",
       "23880     1\n",
       "50499     1\n",
       "13621     1\n",
       "407       1\n",
       "Name: price, Length: 1301, dtype: int64"
      ]
     },
     "execution_count": 21,
     "metadata": {},
     "output_type": "execute_result"
    }
   ],
   "source": [
    "df = df.loc[df['price'] != 0] \n",
    "df.reset_index(drop=True, inplace=True)\n",
    "df['price'].value_counts(dropna=False)"
   ]
  },
  {
   "cell_type": "code",
   "execution_count": 22,
   "metadata": {},
   "outputs": [
    {
     "data": {
      "text/plain": [
       "8500      90\n",
       "7500      82\n",
       "10500     80\n",
       "6500      80\n",
       "3500      76\n",
       "          ..\n",
       "35162      1\n",
       "35138      1\n",
       "45600      1\n",
       "10550      1\n",
       "123000     1\n",
       "Name: price, Length: 1287, dtype: int64"
      ]
     },
     "execution_count": 22,
     "metadata": {},
     "output_type": "execute_result"
    }
   ],
   "source": [
    "df = df.loc[df['price'] < 200000] \n",
    "df.reset_index(drop=True, inplace=True)\n",
    "df['price'].value_counts(dropna=False)"
   ]
  },
  {
   "cell_type": "code",
   "execution_count": 23,
   "metadata": {},
   "outputs": [
    {
     "data": {
      "text/plain": [
       "2.00    1509\n",
       "1.60    1210\n",
       "1.50     681\n",
       "3.00     633\n",
       "1.80     581\n",
       "        ... \n",
       "1.36       1\n",
       "1.79       1\n",
       "6.40       1\n",
       "1.35       1\n",
       "2.28       1\n",
       "Name: engV, Length: 113, dtype: int64"
      ]
     },
     "execution_count": 23,
     "metadata": {},
     "output_type": "execute_result"
    }
   ],
   "source": [
    "df = df.loc[df['engV'] > 0.5] \n",
    "df.reset_index(drop=True, inplace=True)\n",
    "df['engV'].value_counts(dropna=False)"
   ]
  },
  {
   "cell_type": "code",
   "execution_count": 24,
   "metadata": {},
   "outputs": [
    {
     "data": {
      "text/plain": [
       "2.00    1509\n",
       "1.60    1210\n",
       "1.50     681\n",
       "3.00     633\n",
       "1.80     581\n",
       "        ... \n",
       "1.24       1\n",
       "1.79       1\n",
       "9.00       1\n",
       "1.35       1\n",
       "2.28       1\n",
       "Name: engV, Length: 93, dtype: int64"
      ]
     },
     "execution_count": 24,
     "metadata": {},
     "output_type": "execute_result"
    }
   ],
   "source": [
    "df = df.loc[df['engV'] < 10] \n",
    "df.reset_index(drop=True, inplace=True)\n",
    "df['engV'].value_counts(dropna=False)"
   ]
  },
  {
   "cell_type": "code",
   "execution_count": 25,
   "metadata": {},
   "outputs": [
    {
     "data": {
      "text/plain": [
       "2008    1096\n",
       "2007     869\n",
       "2012     714\n",
       "2011     666\n",
       "2013     574\n",
       "2006     536\n",
       "2005     380\n",
       "2010     372\n",
       "2016     368\n",
       "2009     326\n",
       "2004     323\n",
       "2014     310\n",
       "2003     264\n",
       "2000     213\n",
       "2002     210\n",
       "2001     197\n",
       "2015     197\n",
       "1999     149\n",
       "1998     140\n",
       "1997     113\n",
       "1996     111\n",
       "1995      84\n",
       "1994      73\n",
       "1991      64\n",
       "1992      60\n",
       "1990      58\n",
       "1988      56\n",
       "1993      50\n",
       "1989      46\n",
       "1986      41\n",
       "1987      39\n",
       "1985      21\n",
       "1984      15\n",
       "1982      10\n",
       "1983       7\n",
       "1981       5\n",
       "Name: year, dtype: int64"
      ]
     },
     "execution_count": 25,
     "metadata": {},
     "output_type": "execute_result"
    }
   ],
   "source": [
    "df = df.loc[df['year'] > 1980] \n",
    "df.reset_index(drop=True, inplace=True)\n",
    "df['year'].value_counts(dropna=False)"
   ]
  },
  {
   "cell_type": "code",
   "execution_count": 26,
   "metadata": {},
   "outputs": [
    {
     "data": {
      "text/plain": [
       "200    161\n",
       "250    122\n",
       "150    119\n",
       "180    114\n",
       "160    114\n",
       "      ... \n",
       "520      1\n",
       "600      1\n",
       "427      1\n",
       "840      1\n",
       "547      1\n",
       "Name: mileage, Length: 435, dtype: int64"
      ]
     },
     "execution_count": 26,
     "metadata": {},
     "output_type": "execute_result"
    }
   ],
   "source": [
    "df = df.loc[df['mileage'] > 1] \n",
    "df.reset_index(drop=True, inplace=True)\n",
    "df['mileage'].value_counts(dropna=False)"
   ]
  },
  {
   "cell_type": "code",
   "execution_count": 27,
   "metadata": {},
   "outputs": [
    {
     "data": {
      "text/plain": [
       "200    161\n",
       "250    122\n",
       "150    119\n",
       "160    114\n",
       "180    114\n",
       "      ... \n",
       "392      1\n",
       "384      1\n",
       "356      1\n",
       "336      1\n",
       "389      1\n",
       "Name: mileage, Length: 377, dtype: int64"
      ]
     },
     "execution_count": 27,
     "metadata": {},
     "output_type": "execute_result"
    }
   ],
   "source": [
    "df = df.loc[df['mileage'] < 400] \n",
    "df.reset_index(drop=True, inplace=True)\n",
    "df['mileage'].value_counts(dropna=False)"
   ]
  },
  {
   "cell_type": "code",
   "execution_count": 28,
   "metadata": {},
   "outputs": [
    {
     "data": {
      "text/plain": [
       "(8110, 10)"
      ]
     },
     "execution_count": 28,
     "metadata": {},
     "output_type": "execute_result"
    }
   ],
   "source": [
    "df.shape"
   ]
  },
  {
   "cell_type": "code",
   "execution_count": 29,
   "metadata": {},
   "outputs": [
    {
     "data": {
      "text/html": [
       "<div>\n",
       "<style scoped>\n",
       "    .dataframe tbody tr th:only-of-type {\n",
       "        vertical-align: middle;\n",
       "    }\n",
       "\n",
       "    .dataframe tbody tr th {\n",
       "        vertical-align: top;\n",
       "    }\n",
       "\n",
       "    .dataframe thead th {\n",
       "        text-align: right;\n",
       "    }\n",
       "</style>\n",
       "<table border=\"1\" class=\"dataframe\">\n",
       "  <thead>\n",
       "    <tr style=\"text-align: right;\">\n",
       "      <th></th>\n",
       "      <th>car</th>\n",
       "      <th>price</th>\n",
       "      <th>body</th>\n",
       "      <th>mileage</th>\n",
       "      <th>engV</th>\n",
       "      <th>engType</th>\n",
       "      <th>registration</th>\n",
       "      <th>year</th>\n",
       "      <th>model</th>\n",
       "      <th>drive</th>\n",
       "    </tr>\n",
       "  </thead>\n",
       "  <tbody>\n",
       "    <tr>\n",
       "      <th>count</th>\n",
       "      <td>8110.000000</td>\n",
       "      <td>8110.000000</td>\n",
       "      <td>8110.000000</td>\n",
       "      <td>8110.000000</td>\n",
       "      <td>8110.000000</td>\n",
       "      <td>8110.000000</td>\n",
       "      <td>8110.000000</td>\n",
       "      <td>8110.000000</td>\n",
       "      <td>8110.000000</td>\n",
       "      <td>8110.000000</td>\n",
       "    </tr>\n",
       "    <tr>\n",
       "      <th>mean</th>\n",
       "      <td>0.563309</td>\n",
       "      <td>13943.037608</td>\n",
       "      <td>0.422503</td>\n",
       "      <td>0.364972</td>\n",
       "      <td>0.247409</td>\n",
       "      <td>0.445684</td>\n",
       "      <td>0.530641</td>\n",
       "      <td>0.995275</td>\n",
       "      <td>0.509457</td>\n",
       "      <td>0.416523</td>\n",
       "    </tr>\n",
       "    <tr>\n",
       "      <th>std</th>\n",
       "      <td>0.300243</td>\n",
       "      <td>15881.944895</td>\n",
       "      <td>0.274419</td>\n",
       "      <td>0.205442</td>\n",
       "      <td>0.107218</td>\n",
       "      <td>0.214278</td>\n",
       "      <td>0.119931</td>\n",
       "      <td>0.003035</td>\n",
       "      <td>0.284707</td>\n",
       "      <td>0.219231</td>\n",
       "    </tr>\n",
       "    <tr>\n",
       "      <th>min</th>\n",
       "      <td>0.000000</td>\n",
       "      <td>370.000000</td>\n",
       "      <td>0.166667</td>\n",
       "      <td>0.005025</td>\n",
       "      <td>0.066667</td>\n",
       "      <td>0.250000</td>\n",
       "      <td>0.500000</td>\n",
       "      <td>0.982639</td>\n",
       "      <td>0.000000</td>\n",
       "      <td>0.250000</td>\n",
       "    </tr>\n",
       "    <tr>\n",
       "      <th>25%</th>\n",
       "      <td>0.277108</td>\n",
       "      <td>5500.000000</td>\n",
       "      <td>0.166667</td>\n",
       "      <td>0.211055</td>\n",
       "      <td>0.177778</td>\n",
       "      <td>0.250000</td>\n",
       "      <td>0.500000</td>\n",
       "      <td>0.994048</td>\n",
       "      <td>0.252304</td>\n",
       "      <td>0.250000</td>\n",
       "    </tr>\n",
       "    <tr>\n",
       "      <th>50%</th>\n",
       "      <td>0.602410</td>\n",
       "      <td>9300.000000</td>\n",
       "      <td>0.333333</td>\n",
       "      <td>0.339196</td>\n",
       "      <td>0.222222</td>\n",
       "      <td>0.500000</td>\n",
       "      <td>0.500000</td>\n",
       "      <td>0.996032</td>\n",
       "      <td>0.542051</td>\n",
       "      <td>0.250000</td>\n",
       "    </tr>\n",
       "    <tr>\n",
       "      <th>75%</th>\n",
       "      <td>0.831325</td>\n",
       "      <td>15900.000000</td>\n",
       "      <td>0.666667</td>\n",
       "      <td>0.497487</td>\n",
       "      <td>0.277778</td>\n",
       "      <td>0.500000</td>\n",
       "      <td>0.500000</td>\n",
       "      <td>0.997520</td>\n",
       "      <td>0.731567</td>\n",
       "      <td>0.500000</td>\n",
       "    </tr>\n",
       "    <tr>\n",
       "      <th>max</th>\n",
       "      <td>1.000000</td>\n",
       "      <td>195000.000000</td>\n",
       "      <td>1.000000</td>\n",
       "      <td>1.000000</td>\n",
       "      <td>1.000000</td>\n",
       "      <td>1.000000</td>\n",
       "      <td>1.000000</td>\n",
       "      <td>1.000000</td>\n",
       "      <td>1.000000</td>\n",
       "      <td>1.000000</td>\n",
       "    </tr>\n",
       "  </tbody>\n",
       "</table>\n",
       "</div>"
      ],
      "text/plain": [
       "               car          price         body      mileage         engV  \\\n",
       "count  8110.000000    8110.000000  8110.000000  8110.000000  8110.000000   \n",
       "mean      0.563309   13943.037608     0.422503     0.364972     0.247409   \n",
       "std       0.300243   15881.944895     0.274419     0.205442     0.107218   \n",
       "min       0.000000     370.000000     0.166667     0.005025     0.066667   \n",
       "25%       0.277108    5500.000000     0.166667     0.211055     0.177778   \n",
       "50%       0.602410    9300.000000     0.333333     0.339196     0.222222   \n",
       "75%       0.831325   15900.000000     0.666667     0.497487     0.277778   \n",
       "max       1.000000  195000.000000     1.000000     1.000000     1.000000   \n",
       "\n",
       "           engType  registration         year        model        drive  \n",
       "count  8110.000000   8110.000000  8110.000000  8110.000000  8110.000000  \n",
       "mean      0.445684      0.530641     0.995275     0.509457     0.416523  \n",
       "std       0.214278      0.119931     0.003035     0.284707     0.219231  \n",
       "min       0.250000      0.500000     0.982639     0.000000     0.250000  \n",
       "25%       0.250000      0.500000     0.994048     0.252304     0.250000  \n",
       "50%       0.500000      0.500000     0.996032     0.542051     0.250000  \n",
       "75%       0.500000      0.500000     0.997520     0.731567     0.500000  \n",
       "max       1.000000      1.000000     1.000000     1.000000     1.000000  "
      ]
     },
     "execution_count": 29,
     "metadata": {},
     "output_type": "execute_result"
    }
   ],
   "source": [
    "target_column = ['price'] \n",
    "predictors = list(set(list(df.columns))-set(target_column))\n",
    "\n",
    "# normalization\n",
    "df[predictors] = df[predictors]/df[predictors].max()\n",
    "\n",
    "df.describe()"
   ]
  },
  {
   "cell_type": "code",
   "execution_count": 30,
   "metadata": {},
   "outputs": [
    {
     "data": {
      "text/plain": [
       "['engType',\n",
       " 'engV',\n",
       " 'year',\n",
       " 'drive',\n",
       " 'car',\n",
       " 'model',\n",
       " 'mileage',\n",
       " 'registration',\n",
       " 'body']"
      ]
     },
     "execution_count": 30,
     "metadata": {},
     "output_type": "execute_result"
    }
   ],
   "source": [
    "predictors"
   ]
  },
  {
   "cell_type": "code",
   "execution_count": 31,
   "metadata": {},
   "outputs": [
    {
     "name": "stdout",
     "output_type": "stream",
     "text": [
      "\n"
     ]
    },
    {
     "data": {
      "image/png": "[encoded data removed]",
      "text/plain": [
       "<Figure size 1440x720 with 1 Axes>"
      ]
     },
     "metadata": {
      "needs_background": "light"
     },
     "output_type": "display_data"
    },
    {
     "name": "stdout",
     "output_type": "stream",
     "text": [
      "\n",
      "\n"
     ]
    },
    {
     "data": {
      "image/png": "[encoded data removed]",
      "text/plain": [
       "<Figure size 1440x720 with 1 Axes>"
      ]
     },
     "metadata": {
      "needs_background": "light"
     },
     "output_type": "display_data"
    },
    {
     "name": "stdout",
     "output_type": "stream",
     "text": [
      "\n",
      "\n"
     ]
    },
    {
     "data": {
      "image/png": "[encoded data removed]",
      "text/plain": [
       "<Figure size 1440x720 with 1 Axes>"
      ]
     },
     "metadata": {
      "needs_background": "light"
     },
     "output_type": "display_data"
    },
    {
     "name": "stdout",
     "output_type": "stream",
     "text": [
      "\n",
      "\n"
     ]
    },
    {
     "data": {
      "image/png": "[encoded data removed]",
      "text/plain": [
       "<Figure size 1440x720 with 1 Axes>"
      ]
     },
     "metadata": {
      "needs_background": "light"
     },
     "output_type": "display_data"
    },
    {
     "name": "stdout",
     "output_type": "stream",
     "text": [
      "\n",
      "\n"
     ]
    },
    {
     "data": {
      "image/png": "[encoded data removed]",
      "text/plain": [
       "<Figure size 1440x720 with 1 Axes>"
      ]
     },
     "metadata": {
      "needs_background": "light"
     },
     "output_type": "display_data"
    },
    {
     "name": "stdout",
     "output_type": "stream",
     "text": [
      "\n",
      "\n"
     ]
    },
    {
     "data": {
      "image/png": "[encoded data removed]",
      "text/plain": [
       "<Figure size 1440x720 with 1 Axes>"
      ]
     },
     "metadata": {
      "needs_background": "light"
     },
     "output_type": "display_data"
    },
    {
     "name": "stdout",
     "output_type": "stream",
     "text": [
      "\n",
      "\n"
     ]
    },
    {
     "data": {
      "image/png": "[encoded data removed]",
      "text/plain": [
       "<Figure size 1440x720 with 1 Axes>"
      ]
     },
     "metadata": {
      "needs_background": "light"
     },
     "output_type": "display_data"
    },
    {
     "name": "stdout",
     "output_type": "stream",
     "text": [
      "\n",
      "\n"
     ]
    },
    {
     "data": {
      "image/png": "[encoded data removed]",
      "text/plain": [
       "<Figure size 1440x720 with 1 Axes>"
      ]
     },
     "metadata": {
      "needs_background": "light"
     },
     "output_type": "display_data"
    },
    {
     "name": "stdout",
     "output_type": "stream",
     "text": [
      "\n",
      "\n"
     ]
    },
    {
     "data": {
      "image/png": "[encoded data removed]",
      "text/plain": [
       "<Figure size 1440x720 with 1 Axes>"
      ]
     },
     "metadata": {
      "needs_background": "light"
     },
     "output_type": "display_data"
    },
    {
     "name": "stdout",
     "output_type": "stream",
     "text": [
      "\n"
     ]
    }
   ],
   "source": [
    "for el in predictors:\n",
    "    print('')\n",
    "    label = el\n",
    "    el = df[el]\n",
    "    plt.figure(figsize=(20,10))\n",
    "    try:\n",
    "        plt.scatter(el, df.price)\n",
    "    except:\n",
    "        print(Error)\n",
    "    plt.xlabel(label.upper())\n",
    "    plt.ylabel(\"PRICE\")\n",
    "    plt.show()\n",
    "    print('')"
   ]
  },
  {
   "cell_type": "markdown",
   "metadata": {},
   "source": [
    "# GBoosting + feature selection + bagging (including train_test_split)"
   ]
  },
  {
   "cell_type": "code",
   "execution_count": 48,
   "metadata": {},
   "outputs": [
    {
     "name": "stdin",
     "output_type": "stream",
     "text": [
      "You have 10 combinations of X features. Input y/n for continuous (+ press enter/return) y\n"
     ]
    },
    {
     "name": "stdout",
     "output_type": "stream",
     "text": [
      "Inprogress 1/10\n",
      "Inprogress 2/10\n",
      "Inprogress 3/10\n",
      "Inprogress 4/10\n",
      "Inprogress 5/10\n",
      "Inprogress 6/10\n",
      "Inprogress 7/10\n",
      "Inprogress 8/10\n",
      "Inprogress 9/10\n",
      "Inprogress 10/10\n",
      "\n",
      "___SORTED  EVALUATIONS  for   REGRESSOR:___\n",
      "\n",
      "R2_score         MSE         REGRESSOR       FEATURES\n",
      "\n",
      "0.915686        4076.35    XGBRegressor:   ['engType', 'engV', 'year', 'drive', 'car', 'model', 'registration', 'body']\n",
      "\n",
      "0.911378        4179.18    XGBRegressor:   ['engType', 'engV', 'year', 'drive', 'car', 'model', 'mileage', 'registration', 'body']\n",
      "\n",
      "0.903318        4365.09    XGBRegressor:   ['engType', 'engV', 'year', 'drive', 'car', 'model', 'mileage', 'registration']\n",
      "\n",
      "0.901908        4396.80    XGBRegressor:   ['engV', 'year', 'drive', 'car', 'model', 'mileage', 'registration', 'body']\n",
      "\n",
      "0.899783        4444.18    XGBRegressor:   ['engType', 'engV', 'year', 'drive', 'car', 'model', 'mileage', 'body']\n",
      "\n",
      "0.894218        4565.90    XGBRegressor:   ['engType', 'engV', 'year', 'car', 'model', 'mileage', 'registration', 'body']\n",
      "\n",
      "0.893033        4591.40    XGBRegressor:   ['engType', 'engV', 'year', 'drive', 'car', 'mileage', 'registration', 'body']\n",
      "\n",
      "0.892404        4604.89    XGBRegressor:   ['engType', 'year', 'drive', 'car', 'model', 'mileage', 'registration', 'body']\n",
      "\n",
      "0.891472        4624.79    XGBRegressor:   ['engType', 'engV', 'year', 'drive', 'model', 'mileage', 'registration', 'body']\n",
      "\n",
      "0.818974        5972.97    XGBRegressor:   ['engType', 'engV', 'drive', 'car', 'model', 'mileage', 'registration', 'body']\n",
      "\n",
      "10 best evaluations\n",
      "\n",
      "\n",
      "\n",
      "___SORTED  EVALUATIONS  for   REGRESSOR:___\n",
      "\n",
      "R2_score         MSE         REGRESSOR       FEATURES\n",
      "\n",
      "0.927772        3772.89    CatBoostRegr:   ['engType', 'engV', 'year', 'drive', 'car', 'model', 'mileage', 'registration', 'body']\n",
      "\n",
      "0.927218        3787.31    CatBoostRegr:   ['engV', 'year', 'drive', 'car', 'model', 'mileage', 'registration', 'body']\n",
      "\n",
      "0.926503        3805.88    CatBoostRegr:   ['engType', 'engV', 'year', 'car', 'model', 'mileage', 'registration', 'body']\n",
      "\n",
      "0.922080        3918.71    CatBoostRegr:   ['engType', 'engV', 'year', 'drive', 'car', 'model', 'mileage', 'body']\n",
      "\n",
      "0.920264        3964.12    CatBoostRegr:   ['engType', 'engV', 'year', 'drive', 'car', 'model', 'mileage', 'registration']\n",
      "\n",
      "0.914929        4094.60    CatBoostRegr:   ['engType', 'engV', 'year', 'drive', 'car', 'model', 'registration', 'body']\n",
      "\n",
      "0.909995        4211.67    CatBoostRegr:   ['engType', 'engV', 'year', 'drive', 'car', 'mileage', 'registration', 'body']\n",
      "\n",
      "0.896221        4522.47    CatBoostRegr:   ['engType', 'engV', 'year', 'drive', 'model', 'mileage', 'registration', 'body']\n",
      "\n",
      "0.881014        4842.48    CatBoostRegr:   ['engType', 'year', 'drive', 'car', 'model', 'mileage', 'registration', 'body']\n",
      "\n",
      "0.824902        5874.36    CatBoostRegr:   ['engType', 'engV', 'drive', 'car', 'model', 'mileage', 'registration', 'body']\n",
      "\n",
      "10 best evaluations\n",
      "\n",
      "\n",
      "=====================================================================================================\n",
      "\n",
      "___ THE  BEST  SORTED  EVALUATIONS for ALL ___ first 10 best evaluations\n",
      "\n",
      "R2_score         MSE         REGRESSOR       FEATURES\n",
      "\n",
      "0.927772        3772.89     CatBoostRegr:   ['engType', 'engV', 'year', 'drive', 'car', 'model', 'mileage', 'registration', 'body']\n",
      "\n",
      "0.927218        3787.31     CatBoostRegr:   ['engV', 'year', 'drive', 'car', 'model', 'mileage', 'registration', 'body']\n",
      "\n",
      "0.926503        3805.88     CatBoostRegr:   ['engType', 'engV', 'year', 'car', 'model', 'mileage', 'registration', 'body']\n",
      "\n",
      "0.922080        3918.71     CatBoostRegr:   ['engType', 'engV', 'year', 'drive', 'car', 'model', 'mileage', 'body']\n",
      "\n",
      "0.920264        3964.12     CatBoostRegr:   ['engType', 'engV', 'year', 'drive', 'car', 'model', 'mileage', 'registration']\n",
      "\n",
      "0.915686        4076.35     XGBRegressor:   ['engType', 'engV', 'year', 'drive', 'car', 'model', 'registration', 'body']\n",
      "\n",
      "0.914929        4094.60     CatBoostRegr:   ['engType', 'engV', 'year', 'drive', 'car', 'model', 'registration', 'body']\n",
      "\n",
      "0.911378        4179.18     XGBRegressor:   ['engType', 'engV', 'year', 'drive', 'car', 'model', 'mileage', 'registration', 'body']\n",
      "\n",
      "0.909995        4211.67     CatBoostRegr:   ['engType', 'engV', 'year', 'drive', 'car', 'mileage', 'registration', 'body']\n",
      "\n",
      "0.903318        4365.09     XGBRegressor:   ['engType', 'engV', 'year', 'drive', 'car', 'model', 'mileage', 'registration']\n",
      "\n",
      "10 best evaluations\n",
      "\n",
      "\n",
      "=====================================================================================================\n",
      "=====================================================================================================\n",
      "___ BAGGING  EVALUATIONS for ALL ___ first 10 best evaluations\n",
      "\n",
      "R2_score         MSE         REGRESSOR       FEATURES\n",
      "\n",
      "0.926223        3813.12     Bagging_XGB,CAT ['engType', 'engV', 'year', 'drive', 'car', 'model', 'mileage', 'registration', 'body']\n",
      "\n",
      "0.921571        3931.51     Bagging_XGB,CAT ['engV', 'year', 'drive', 'car', 'model', 'mileage', 'registration', 'body']\n",
      "\n",
      "0.921375        3936.42     Bagging_XGB,CAT ['engType', 'engV', 'year', 'drive', 'car', 'model', 'mileage', 'registration']\n",
      "\n",
      "0.920863        3949.21     Bagging_XGB,CAT ['engType', 'engV', 'year', 'drive', 'car', 'model', 'registration', 'body']\n",
      "\n",
      "0.918427        4009.54     Bagging_XGB,CAT ['engType', 'engV', 'year', 'drive', 'car', 'model', 'mileage', 'body']\n",
      "\n",
      "0.917781        4025.37     Bagging_XGB,CAT ['engType', 'engV', 'year', 'car', 'model', 'mileage', 'registration', 'body']\n",
      "\n",
      "0.909773        4216.86     Bagging_XGB,CAT ['engType', 'engV', 'year', 'drive', 'car', 'mileage', 'registration', 'body']\n",
      "\n",
      "0.902219        4389.82     Bagging_XGB,CAT ['engType', 'engV', 'year', 'drive', 'model', 'mileage', 'registration', 'body']\n",
      "\n",
      "0.897621        4491.85     Bagging_XGB,CAT ['engType', 'year', 'drive', 'car', 'model', 'mileage', 'registration', 'body']\n",
      "\n",
      "0.833926        5720.98     Bagging_XGB,CAT ['engType', 'engV', 'drive', 'car', 'model', 'mileage', 'registration', 'body']\n",
      "\n"
     ]
    }
   ],
   "source": [
    "X = predictors    # type list !!!\n",
    "\n",
    "y = df[target_column]    # df\n",
    "y = np.ravel(y)\n",
    "\n",
    "# OUTPUT_quantity_of_best_results______________________________________________________\n",
    "show_quantity_of_best_evaluations = 10\n",
    "\n",
    "\n",
    "def get_combinations(X):\n",
    "    '''get all combinations of X features'''\n",
    "    import itertools\n",
    "    global combinations\n",
    "    combinations = []\n",
    "\n",
    "# # ALL FEATURES COMBINATIONS____X + ALL(X-1)____________________________________________\n",
    "    dubl_X = X[:]\n",
    "    combinations.append(X)\n",
    "    j=0\n",
    "    for el in X:\n",
    "        del dubl_X[j]\n",
    "        combinations.append(dubl_X)\n",
    "        dubl_X = X[:]\n",
    "        j+=1\n",
    "        \n",
    "# # ALL FEATURES COMBINATIONS____or_last_1/3_______________________________________________\n",
    "#     for L in range(0, len(X)+1):\n",
    "#          for subset in itertools.combinations(X, L):\n",
    "#             subset = list(subset)\n",
    "#             combinations.append(subset)\n",
    "#     del combinations[0]\n",
    "# #     combinations = combinations[int(len(combinations)/1.5):]  # return the last 1/3 of the most complete combinations of features\n",
    "       \n",
    "    return combinations\n",
    "\n",
    "\n",
    "def iterative_evaluation(df, y, combinations):\n",
    "    '''iterative evaluation of all features'''\n",
    "    comand = input(f'You have {len(combinations)} combinations of X features.'\n",
    "                   f' Input y/n for continuous (+ press enter/return)')\n",
    "    if comand == 'n':\n",
    "        return 'OK'\n",
    "    elif comand == 'y':\n",
    "        \n",
    "# Imports _________________________________________________________\n",
    "        from sklearn.model_selection import train_test_split\n",
    "\n",
    "        from sklearn.tree import DecisionTreeRegressor\n",
    "        from sklearn.ensemble import RandomForestRegressor\n",
    "        import lightgbm as lgb\n",
    "        import xgboost as xgb\n",
    "        import catboost as ctb\n",
    "    \n",
    "\n",
    "# Imports of metrics ______________________________________________\n",
    "        from sklearn.metrics import mean_squared_error\n",
    "        from math import sqrt\n",
    "        from sklearn.metrics import r2_score\n",
    "        \n",
    "        \n",
    "# Creare evaluations lists ________________________________________\n",
    "#         global DecisionTree_evaluations\n",
    "#         DecisionTree_evaluations = []\n",
    "        \n",
    "#         global RandomForest_evaluations\n",
    "#         RandomForest_evaluations = []\n",
    "        \n",
    "#         global LGBM_evaluations\n",
    "#         LGBM_evaluations = []\n",
    "        \n",
    "        global XGB_evaluations\n",
    "        XGB_evaluations = []\n",
    "        \n",
    "        global CatBoost_evaluations\n",
    "        CatBoost_evaluations = []\n",
    "        \n",
    "        global all_evaluations\n",
    "        all_evaluations = []\n",
    "        \n",
    "\n",
    "# GLOBAL LIST OF ALL EVALUATIONS ___________________________________________________________________________        \n",
    "        all_evaluations = [ # DecisionTree_evaluations, RandomForest_evaluations, LGBM_evaluations,\n",
    "                            XGB_evaluations, CatBoost_evaluations]\n",
    "        \n",
    "# BAGGINAG _______________________________________________________________________\n",
    "        global bagging_list_evaluations\n",
    "        bagging_list_evaluations = []\n",
    "        \n",
    "        \n",
    "        \n",
    "# Regressor Constructor _______________________________________________\n",
    "        dtree = DecisionTreeRegressor()\n",
    "        model_rf = RandomForestRegressor()\n",
    "        lgbm = lgb.LGBMRegressor()\n",
    "        xgbm = xgb.XGBRegressor()\n",
    "        ctbm = ctb.CatBoostRegressor(verbose=False)\n",
    "        \n",
    "\n",
    "        i=1    \n",
    "        for el in combinations[:]:                       \n",
    "            print(f'Inprogress {i}/{len(combinations)}')\n",
    "            el = list(el)\n",
    "            \n",
    "            X = df[el]\n",
    "            \n",
    "# train_test_SPLIT ________________________________________________\n",
    "            X_train, X_test, y_train, y_test = train_test_split(X, y, test_size=0.1, random_state=3)\n",
    "            \n",
    "# Model train and evaluation ______________________________________\n",
    "            # DecisionTreeRegressor\n",
    "#             dtree.fit(X_train, y_train)\n",
    "#             pred_test_tree= dtree.predict(X_test)\n",
    "#             MSE = np.sqrt(mean_squared_error(y_test,pred_test_tree)) \n",
    "#             R2 = r2_score(y_test, pred_test_tree)\n",
    "#             DecisionTree_evaluations.append([float('{:.6f}'.format(R2)), float('{:.6f}'.format(MSE)), 'DecisionTree:', el])\n",
    "            \n",
    "\n",
    "#             # RandomForestRegressor\n",
    "#             model_rf.fit(X_train, y_train) \n",
    "#             pred_test_rf = model_rf.predict(X_test)\n",
    "#             MSE = np.sqrt(mean_squared_error(y_test,pred_test_rf)) \n",
    "#             R2 = r2_score(y_test, pred_test_rf)\n",
    "#             RandomForest_evaluations.append([float('{:.6f}'.format(R2)), float('{:.6f}'.format(MSE)), 'RandomForest:', el])\n",
    "\n",
    "            \n",
    "#             # LGBMRegressor\n",
    "#             lgbm.fit(X_train,y_train)\n",
    "#             pred_test_lgb = lgbm.predict(X_test)\n",
    "#             MSE = np.sqrt(mean_squared_error(y_test,pred_test_lgb)) \n",
    "#             R2 = r2_score(y_test, pred_test_lgb)\n",
    "#             LGBM_evaluations.append([float('{:.6f}'.format(R2)), float('{:.6f}'.format(MSE)), 'LGBMRegressor:', el])\n",
    "            \n",
    "            \n",
    "            # XGBRegressor\n",
    "            xgbm.fit(X_train, y_train)\n",
    "            pred_test_xgb = xgbm.predict(X_test)\n",
    "            MSE = np.sqrt(mean_squared_error(y_test,pred_test_xgb)) \n",
    "            R2 = r2_score(y_test, pred_test_xgb)\n",
    "            XGB_evaluations.append([float('{:.6f}'.format(R2)), float('{:.6f}'.format(MSE)), 'XGBRegressor:', el])\n",
    "            \n",
    "            \n",
    "            # CatBoostRegressor\n",
    "            ctbm.fit(X_train, y_train)\n",
    "            pred_test_ctb = ctbm.predict(X_test)\n",
    "            MSE = np.sqrt(mean_squared_error(y_test,pred_test_ctb)) \n",
    "            R2 = r2_score(y_test, pred_test_ctb)\n",
    "            CatBoost_evaluations.append([float('{:.6f}'.format(R2)), float('{:.6f}'.format(MSE)), 'CatBoostRegr:', el])\n",
    "            \n",
    "            \n",
    "# Bagging _________________________________________________________________________\n",
    "            bagging_predict = (pred_test_xgb + pred_test_ctb)/2\n",
    "            MSE = np.sqrt(mean_squared_error(y_test,bagging_predict)) \n",
    "            R2 = r2_score(y_test, bagging_predict)\n",
    "            bagging_list_evaluations.append([float('{:.6f}'.format(R2)), float('{:.6f}'.format(MSE)), 'Bagging_XGB,CAT', el])\n",
    "            \n",
    "            \n",
    "            i+=1\n",
    "        return all_evaluations, bagging_list_evaluations\n",
    "    \n",
    "    else:\n",
    "        return 'invalid command'\n",
    "\n",
    "    \n",
    "    \n",
    "def get_sorted_evaluations(all_evaluations, bagging_list_evaluations, show_quantity_of_best_evaluations):\n",
    "    '''sort and show list of evaluations'''\n",
    "    \n",
    "    global TOTAL_evaluations\n",
    "    TOTAL_evaluations = []\n",
    "    \n",
    "    for list_evaluations in all_evaluations:\n",
    "        list_evaluations.sort(reverse=True)\n",
    "        \n",
    "        show = list_evaluations[:show_quantity_of_best_evaluations]\n",
    "        print(\"\")\n",
    "        print(\"___SORTED  EVALUATIONS  for   REGRESSOR:___\")\n",
    "        print(\"\")\n",
    "        print(\"R2_score         MSE         REGRESSOR       FEATURES\")\n",
    "        print(\"\")\n",
    "\n",
    "        for for_regressor in show:\n",
    "            print(\"{:1.6f}   {:12.2f}    {:15}\".format(for_regressor[0], for_regressor[1], for_regressor[2]), for_regressor[3])\n",
    "            print(\"\")\n",
    "            TOTAL_evaluations.append(for_regressor)\n",
    "        \n",
    "        print(f\"{len(show)} best evaluations\")\n",
    "        print(\"\")\n",
    "        print(\"\")\n",
    "        \n",
    "    TOTAL_evaluations.sort(reverse=True)\n",
    "    \n",
    "    print(\"=====================================================================================================\")\n",
    "    print(\"\")\n",
    "        \n",
    "    print(f\"___ THE  BEST  SORTED  EVALUATIONS for ALL ___ first {show_quantity_of_best_evaluations} best evaluations\")\n",
    "    print(\"\")\n",
    "    print(\"R2_score         MSE         REGRESSOR       FEATURES\")\n",
    "    print(\"\")\n",
    "    \n",
    "    for evaluations in TOTAL_evaluations[:show_quantity_of_best_evaluations]:\n",
    "        print(\"{:1.6f}   {:12.2f}     {:15}\".format(evaluations[0], evaluations[1], evaluations[2]), evaluations[3])\n",
    "        print(\"\")\n",
    "    print(f\"{show_quantity_of_best_evaluations} best evaluations\")\n",
    "    print(\"\")\n",
    "    print(\"\")\n",
    "    print(\"=====================================================================================================\")\n",
    "    print(\"=====================================================================================================\")\n",
    "    \n",
    "    print(f\"___ BAGGING  EVALUATIONS for ALL ___ first {show_quantity_of_best_evaluations} best evaluations\")\n",
    "    print(\"\")\n",
    "    print(\"R2_score         MSE         REGRESSOR       FEATURES\")\n",
    "    print(\"\")\n",
    "    \n",
    "    bagging_list_evaluations.sort(reverse=True)\n",
    "    \n",
    "    for evaluations in bagging_list_evaluations[:show_quantity_of_best_evaluations]:\n",
    "        print(\"{:1.6f}   {:12.2f}     {:15}\".format(evaluations[0], evaluations[1], evaluations[2]), evaluations[3])\n",
    "        print(\"\")\n",
    "\n",
    "        \n",
    "get_combinations(X)\n",
    "iterative_evaluation(df, y, combinations)\n",
    "get_sorted_evaluations(all_evaluations, bagging_list_evaluations, show_quantity_of_best_evaluations)"
   ]
  },
  {
   "cell_type": "code",
   "execution_count": 49,
   "metadata": {},
   "outputs": [
    {
     "name": "stdout",
     "output_type": "stream",
     "text": [
      "['registration', 'engV', 'engType', 'year', 'car', 'model']\n",
      "['engV', 'engType', 'year', 'car', 'model']\n",
      "['registration', 'engType', 'year', 'car', 'model']\n",
      "['registration', 'engV', 'year', 'car', 'model']\n",
      "['registration', 'engV', 'engType', 'car', 'model']\n",
      "['registration', 'engV', 'engType', 'year', 'model']\n",
      "['registration', 'engV', 'engType', 'year', 'car']\n"
     ]
    },
    {
     "name": "stdin",
     "output_type": "stream",
     "text": [
      "You have 7 combinations of X features. Input y/n for continuous (+ press enter/return) y\n"
     ]
    },
    {
     "name": "stdout",
     "output_type": "stream",
     "text": [
      "Inprogress 1/7\n",
      "Inprogress 2/7\n",
      "Inprogress 3/7\n",
      "Inprogress 4/7\n",
      "Inprogress 5/7\n",
      "Inprogress 6/7\n",
      "Inprogress 7/7\n",
      "\n",
      "___SORTED  EVALUATIONS  for   REGRESSOR:___\n",
      "\n",
      "R2_score         MSE         REGRESSOR       FEATURES\n",
      "\n",
      "0.905624        4312.73    XGBRegressor:   ['engV', 'engType', 'year', 'car', 'model']\n",
      "\n",
      "0.904484        4338.69    XGBRegressor:   ['registration', 'engV', 'engType', 'year', 'car', 'model']\n",
      "\n",
      "0.901165        4413.42    XGBRegressor:   ['registration', 'engV', 'year', 'car', 'model']\n",
      "\n",
      "0.891412        4626.06    XGBRegressor:   ['registration', 'engV', 'engType', 'year', 'model']\n",
      "\n",
      "0.874772        4967.88    XGBRegressor:   ['registration', 'engType', 'year', 'car', 'model']\n",
      "\n",
      "0.847829        5476.29    XGBRegressor:   ['registration', 'engV', 'engType', 'year', 'car']\n",
      "\n",
      "0.742031        7130.24    XGBRegressor:   ['registration', 'engV', 'engType', 'car', 'model']\n",
      "\n",
      "7 best evaluations\n",
      "\n",
      "\n",
      "\n",
      "___SORTED  EVALUATIONS  for   REGRESSOR:___\n",
      "\n",
      "R2_score         MSE         REGRESSOR       FEATURES\n",
      "\n",
      "0.898542        4471.60    CatBoostRegr:   ['registration', 'engV', 'engType', 'year', 'car', 'model']\n",
      "\n",
      "0.897377        4497.21    CatBoostRegr:   ['engV', 'engType', 'year', 'car', 'model']\n",
      "\n",
      "0.892544        4601.89    CatBoostRegr:   ['registration', 'engV', 'year', 'car', 'model']\n",
      "\n",
      "0.867030        5119.13    CatBoostRegr:   ['registration', 'engV', 'engType', 'year', 'model']\n",
      "\n",
      "0.861443        5225.59    CatBoostRegr:   ['registration', 'engV', 'engType', 'year', 'car']\n",
      "\n",
      "0.811370        6097.14    CatBoostRegr:   ['registration', 'engType', 'year', 'car', 'model']\n",
      "\n",
      "0.707846        7587.99    CatBoostRegr:   ['registration', 'engV', 'engType', 'car', 'model']\n",
      "\n",
      "7 best evaluations\n",
      "\n",
      "\n",
      "=====================================================================================================\n",
      "\n",
      "___ THE  BEST  SORTED  EVALUATIONS for ALL ___ first 10 best evaluations\n",
      "\n",
      "R2_score         MSE         REGRESSOR       FEATURES\n",
      "\n",
      "0.905624        4312.73     XGBRegressor:   ['engV', 'engType', 'year', 'car', 'model']\n",
      "\n",
      "0.904484        4338.69     XGBRegressor:   ['registration', 'engV', 'engType', 'year', 'car', 'model']\n",
      "\n",
      "0.901165        4413.42     XGBRegressor:   ['registration', 'engV', 'year', 'car', 'model']\n",
      "\n",
      "0.898542        4471.60     CatBoostRegr:   ['registration', 'engV', 'engType', 'year', 'car', 'model']\n",
      "\n",
      "0.897377        4497.21     CatBoostRegr:   ['engV', 'engType', 'year', 'car', 'model']\n",
      "\n",
      "0.892544        4601.89     CatBoostRegr:   ['registration', 'engV', 'year', 'car', 'model']\n",
      "\n",
      "0.891412        4626.06     XGBRegressor:   ['registration', 'engV', 'engType', 'year', 'model']\n",
      "\n",
      "0.874772        4967.88     XGBRegressor:   ['registration', 'engType', 'year', 'car', 'model']\n",
      "\n",
      "0.867030        5119.13     CatBoostRegr:   ['registration', 'engV', 'engType', 'year', 'model']\n",
      "\n",
      "0.861443        5225.59     CatBoostRegr:   ['registration', 'engV', 'engType', 'year', 'car']\n",
      "\n",
      "10 best evaluations\n",
      "\n",
      "\n",
      "=====================================================================================================\n",
      "=====================================================================================================\n",
      "___ BAGGING  EVALUATIONS for ALL ___ first 10 best evaluations\n",
      "\n",
      "R2_score         MSE         REGRESSOR       FEATURES\n",
      "\n",
      "0.907579        4267.83     Bagging_XGB,CAT ['engV', 'engType', 'year', 'car', 'model']\n",
      "\n",
      "0.907040        4280.24     Bagging_XGB,CAT ['registration', 'engV', 'engType', 'year', 'car', 'model']\n",
      "\n",
      "0.903447        4362.19     Bagging_XGB,CAT ['registration', 'engV', 'year', 'car', 'model']\n",
      "\n",
      "0.886642        4726.57     Bagging_XGB,CAT ['registration', 'engV', 'engType', 'year', 'model']\n",
      "\n",
      "0.860261        5247.82     Bagging_XGB,CAT ['registration', 'engV', 'engType', 'year', 'car']\n",
      "\n",
      "0.854969        5346.26     Bagging_XGB,CAT ['registration', 'engType', 'year', 'car', 'model']\n",
      "\n",
      "0.741023        7144.15     Bagging_XGB,CAT ['registration', 'engV', 'engType', 'car', 'model']\n",
      "\n"
     ]
    }
   ],
   "source": [
    "# X = predictors    # type list !!!\n",
    "X = ['registration', 'engV', 'engType', 'year', 'car', 'model']\n",
    "\n",
    "\n",
    "y = df[target_column]    # df\n",
    "y = np.ravel(y)\n",
    "\n",
    "# OUTPUT_quantity_of_results______________________________________________________\n",
    "show_quantity_of_best_evaluations = 10\n",
    "\n",
    "\n",
    "def get_combinations(X):\n",
    "    '''get all combinations of X features'''\n",
    "    import itertools\n",
    "    global combinations\n",
    "    combinations = []\n",
    "\n",
    "# # ALL FEATURES COMBINATIONS____X + ALL(X-1)_________Time complexity O(n)___________________________________\n",
    "    dubl_X = X[:]\n",
    "    combinations.append(X)\n",
    "    j=0\n",
    "    for el in X:\n",
    "        del dubl_X[j]\n",
    "        combinations.append(dubl_X)\n",
    "        dubl_X = X[:]\n",
    "        j+=1\n",
    "        \n",
    "# # ALL FEATURES COMBINATIONS____or_last_1/3________________Time complexity_O(2**n)__(exponential time)________________________\n",
    "#     for L in range(0, len(X)+1):\n",
    "#          for subset in itertools.combinations(X, L):\n",
    "#             subset = list(subset)\n",
    "#             combinations.append(subset)\n",
    "#     del combinations[0]\n",
    "# #     combinations = combinations[int(len(combinations)/1.5):]  # return the last 1/3 of the most complete combinations of features\n",
    "    \n",
    "    for el in combinations:\n",
    "        print(el)\n",
    "    return combinations\n",
    "\n",
    "\n",
    "def iterative_evaluation(df, y, combinations):\n",
    "    '''iterative evaluation of all features'''\n",
    "    comand = input(f'You have {len(combinations)} combinations of X features.'\n",
    "                   f' Input y/n for continuous (+ press enter/return)')\n",
    "    if comand == 'n':\n",
    "        return 'OK'\n",
    "    elif comand == 'y':\n",
    "        \n",
    "# Imports _________________________________________________________\n",
    "        from sklearn.model_selection import train_test_split\n",
    "\n",
    "        from sklearn.tree import DecisionTreeRegressor\n",
    "        from sklearn.ensemble import RandomForestRegressor\n",
    "        import lightgbm as lgb\n",
    "        import xgboost as xgb\n",
    "        import catboost as ctb\n",
    "    \n",
    "\n",
    "# Imports of metrics ______________________________________________\n",
    "        from sklearn.metrics import mean_squared_error\n",
    "        from math import sqrt\n",
    "        from sklearn.metrics import r2_score\n",
    "        \n",
    "        \n",
    "# Creare evaluations lists ________________________________________\n",
    "#         global DecisionTree_evaluations\n",
    "#         DecisionTree_evaluations = []\n",
    "        \n",
    "#         global RandomForest_evaluations\n",
    "#         RandomForest_evaluations = []\n",
    "        \n",
    "#         global LGBM_evaluations\n",
    "#         LGBM_evaluations = []\n",
    "        \n",
    "        global XGB_evaluations\n",
    "        XGB_evaluations = []\n",
    "        \n",
    "        global CatBoost_evaluations\n",
    "        CatBoost_evaluations = []\n",
    "        \n",
    "        global all_evaluations\n",
    "        all_evaluations = []\n",
    "        \n",
    "\n",
    "# GLOBAL LIST OF ALL EVALUATIONS ___________________________________________________________________________        \n",
    "        all_evaluations = [#DecisionTree_evaluations, RandomForest_evaluations, LGBM_evaluations,\n",
    "                            XGB_evaluations, CatBoost_evaluations]\n",
    "        \n",
    "# BAGGINAG _______________________________________________________________________\n",
    "        global bagging_list_evaluations\n",
    "        bagging_list_evaluations = []\n",
    "        \n",
    "        \n",
    "        \n",
    "# Regressor Constructor _______________________________________________\n",
    "        dtree = DecisionTreeRegressor()\n",
    "        model_rf = RandomForestRegressor()\n",
    "        lgbm = lgb.LGBMRegressor()\n",
    "        xgbm = xgb.XGBRegressor()\n",
    "        ctbm = ctb.CatBoostRegressor(verbose=False)\n",
    "        \n",
    "\n",
    "        i=1    \n",
    "        for el in combinations[:]:                       \n",
    "            print(f'Inprogress {i}/{len(combinations)}')\n",
    "            el = list(el)\n",
    "            \n",
    "            X = df[el]\n",
    "            \n",
    "# train_test_SPLIT ________________________________________________\n",
    "            X_train, X_test, y_train, y_test = train_test_split(X, y, test_size=0.1, random_state=3)\n",
    "            \n",
    "# Model train and evaluation ______________________________________\n",
    "            # DecisionTreeRegressor\n",
    "#             dtree.fit(X_train, y_train)\n",
    "#             pred_test_tree= dtree.predict(X_test)\n",
    "#             MSE = np.sqrt(mean_squared_error(y_test,pred_test_tree)) \n",
    "#             R2 = r2_score(y_test, pred_test_tree)\n",
    "#             DecisionTree_evaluations.append([float('{:.6f}'.format(R2)), float('{:.6f}'.format(MSE)), 'DecisionTree:', el])\n",
    "            \n",
    "\n",
    "#             # RandomForestRegressor\n",
    "#             model_rf.fit(X_train, y_train) \n",
    "#             pred_test_rf = model_rf.predict(X_test)\n",
    "#             MSE = np.sqrt(mean_squared_error(y_test,pred_test_rf)) \n",
    "#             R2 = r2_score(y_test, pred_test_rf)\n",
    "#             RandomForest_evaluations.append([float('{:.6f}'.format(R2)), float('{:.6f}'.format(MSE)), 'RandomForest:', el])\n",
    "\n",
    "            \n",
    "#             # LGBMRegressor\n",
    "#             lgbm.fit(X_train,y_train)\n",
    "#             pred_test_lgb = lgbm.predict(X_test)\n",
    "#             MSE = np.sqrt(mean_squared_error(y_test,pred_test_lgb)) \n",
    "#             R2 = r2_score(y_test, pred_test_lgb)\n",
    "#             LGBM_evaluations.append([float('{:.6f}'.format(R2)), float('{:.6f}'.format(MSE)), 'LGBMRegressor:', el])\n",
    "            \n",
    "            \n",
    "            # XGBRegressor\n",
    "            xgbm.fit(X_train, y_train)\n",
    "            pred_test_xgb = xgbm.predict(X_test)\n",
    "            MSE = np.sqrt(mean_squared_error(y_test,pred_test_xgb)) \n",
    "            R2 = r2_score(y_test, pred_test_xgb)\n",
    "            XGB_evaluations.append([float('{:.6f}'.format(R2)), float('{:.6f}'.format(MSE)), 'XGBRegressor:', el])\n",
    "            \n",
    "            \n",
    "            # CatBoostRegressor\n",
    "            ctbm.fit(X_train, y_train)\n",
    "            pred_test_ctb = ctbm.predict(X_test)\n",
    "            MSE = np.sqrt(mean_squared_error(y_test,pred_test_ctb)) \n",
    "            R2 = r2_score(y_test, pred_test_ctb)\n",
    "            CatBoost_evaluations.append([float('{:.6f}'.format(R2)), float('{:.6f}'.format(MSE)), 'CatBoostRegr:', el])\n",
    "            \n",
    "\n",
    "# Bagging _________________________________________________________________________        \n",
    "            bagging_predict = (pred_test_xgb + pred_test_ctb)/2\n",
    "            MSE = np.sqrt(mean_squared_error(y_test,bagging_predict)) \n",
    "            R2 = r2_score(y_test, bagging_predict)\n",
    "            bagging_list_evaluations.append([float('{:.6f}'.format(R2)), float('{:.6f}'.format(MSE)), 'Bagging_XGB,CAT', el])\n",
    "            \n",
    "            \n",
    "            i+=1\n",
    "        return all_evaluations, bagging_list_evaluations\n",
    "    \n",
    "    else:\n",
    "        return 'invalid command'\n",
    "\n",
    "    \n",
    "    \n",
    "def get_sorted_evaluations(all_evaluations, bagging_list_evaluations, show_quantity_of_best_evaluations):\n",
    "    '''sort and show list of evaluations'''\n",
    "    \n",
    "    global TOTAL_evaluations\n",
    "    TOTAL_evaluations = []\n",
    "    \n",
    "    for list_evaluations in all_evaluations:\n",
    "        list_evaluations.sort(reverse=True)\n",
    "        \n",
    "        show = list_evaluations[:show_quantity_of_best_evaluations]\n",
    "        print(\"\")\n",
    "        print(\"___SORTED  EVALUATIONS  for   REGRESSOR:___\")\n",
    "        print(\"\")\n",
    "        print(\"R2_score         MSE         REGRESSOR       FEATURES\")\n",
    "        print(\"\")\n",
    "\n",
    "        for for_regressor in show:\n",
    "            print(\"{:1.6f}   {:12.2f}    {:15}\".format(for_regressor[0], for_regressor[1], for_regressor[2]), for_regressor[3])\n",
    "            print(\"\")\n",
    "            TOTAL_evaluations.append(for_regressor)\n",
    "        \n",
    "        print(f\"{len(show)} best evaluations\")\n",
    "        print(\"\")\n",
    "        print(\"\")\n",
    "        \n",
    "    TOTAL_evaluations.sort(reverse=True)\n",
    "    \n",
    "    print(\"=====================================================================================================\")\n",
    "    print(\"\")\n",
    "        \n",
    "    print(f\"___ THE  BEST  SORTED  EVALUATIONS for ALL ___ first {show_quantity_of_best_evaluations} best evaluations\")\n",
    "    print(\"\")\n",
    "    print(\"R2_score         MSE         REGRESSOR       FEATURES\")\n",
    "    print(\"\")\n",
    "    \n",
    "    for evaluations in TOTAL_evaluations[:show_quantity_of_best_evaluations]:\n",
    "        print(\"{:1.6f}   {:12.2f}     {:15}\".format(evaluations[0], evaluations[1], evaluations[2]), evaluations[3])\n",
    "        print(\"\")\n",
    "    print(f\"{show_quantity_of_best_evaluations} best evaluations\")\n",
    "    print(\"\")\n",
    "    print(\"\")\n",
    "    print(\"=====================================================================================================\")\n",
    "    print(\"=====================================================================================================\")\n",
    "    \n",
    "    print(f\"___ BAGGING  EVALUATIONS for ALL ___ first {show_quantity_of_best_evaluations} best evaluations\")\n",
    "    print(\"\")\n",
    "    print(\"R2_score         MSE         REGRESSOR       FEATURES\")\n",
    "    print(\"\")\n",
    "    \n",
    "    bagging_list_evaluations.sort(reverse=True)\n",
    "    \n",
    "    for evaluations in bagging_list_evaluations[:show_quantity_of_best_evaluations]:\n",
    "        print(\"{:1.6f}   {:12.2f}     {:15}\".format(evaluations[0], evaluations[1], evaluations[2]), evaluations[3])\n",
    "        print(\"\")\n",
    "\n",
    "        \n",
    "get_combinations(X)\n",
    "iterative_evaluation(df, y, combinations)\n",
    "get_sorted_evaluations(all_evaluations, bagging_list_evaluations, show_quantity_of_best_evaluations)"
   ]
  },
  {
   "cell_type": "markdown",
   "metadata": {},
   "source": [
    "# The Best Result"
   ]
  },
  {
   "cell_type": "markdown",
   "metadata": {},
   "source": [
    "R2_score___________MSE_______REGRESSOR________FEATURES\n",
    "\n",
    "0.928544________3752.65_____CatBoostRegr:____['mileage', 'registration', 'engType', 'body', 'year', 'car', 'engV', 'model']"
   ]
  },
  {
   "cell_type": "code",
   "execution_count": null,
   "metadata": {},
   "outputs": [],
   "source": []
  }
 ],
 "metadata": {
  "kernelspec": {
   "display_name": "Python [conda env:regr] *",
   "language": "python",
   "name": "conda-env-regr-py"
  },
  "language_info": {
   "codemirror_mode": {
    "name": "ipython",
    "version": 3
   },
   "file_extension": ".py",
   "mimetype": "text/x-python",
   "name": "python",
   "nbconvert_exporter": "python",
   "pygments_lexer": "ipython3",
   "version": "3.7.9"
  }
 },
 "nbformat": 4,
 "nbformat_minor": 4
}
